{
 "cells": [
  {
   "cell_type": "markdown",
   "metadata": {},
   "source": [
    "# Student Name: \n",
    "# Enrollment Number: \n",
    "# Lab assignemnt number: 8"
   ]
  },
  {
   "cell_type": "markdown",
   "metadata": {},
   "source": [
    "## Nested Loops"
   ]
  },
  {
   "cell_type": "markdown",
   "metadata": {},
   "source": [
    "### 1 Run the following program to see how many time outer and inner loop run."
   ]
  },
  {
   "cell_type": "code",
   "execution_count": 11,
   "metadata": {},
   "outputs": [
    {
     "name": "stdout",
     "output_type": "stream",
     "text": [
      "4 12\n"
     ]
    }
   ],
   "source": [
    "inner=0\n",
    "outer=0\n",
    "for i in range(1,5):\n",
    "    outer+=1\n",
    "    for j in range(1,4):\n",
    "        inner+=1\n",
    "print(outer,inner)\n"
   ]
  },
  {
   "cell_type": "markdown",
   "metadata": {},
   "source": [
    "### 2 Write a program in Python to print a square pattern using loop.\n",
    "    * * * * *\n",
    "    * * * * *\n",
    "    * * * * *\n",
    "    * * * * *\n",
    "    * * * * *"
   ]
  },
  {
   "cell_type": "code",
   "execution_count": 2,
   "metadata": {
    "scrolled": false
   },
   "outputs": [
    {
     "name": "stdout",
     "output_type": "stream",
     "text": [
      "* * * * * \n",
      "* * * * * \n",
      "* * * * * \n",
      "* * * * * \n",
      "* * * * * \n"
     ]
    }
   ],
   "source": [
    "for i in range(5):\n",
    "    for j in range(5):\n",
    "        print('*',end=' ')\n",
    "        \n",
    "    print()"
   ]
  },
  {
   "cell_type": "markdown",
   "metadata": {},
   "source": [
    "### 3 Print the following output using a Python program:\n",
    "    5  4  3  2  1\n",
    "    5  4  3  2  1    \n",
    "    5  4  3  2  1\n",
    "    5  4  3  2  1 "
   ]
  },
  {
   "cell_type": "code",
   "execution_count": 21,
   "metadata": {
    "scrolled": false
   },
   "outputs": [
    {
     "name": "stdout",
     "output_type": "stream",
     "text": [
      "5 4 3 2 1 \n",
      "5 4 3 2 1 \n",
      "5 4 3 2 1 \n",
      "5 4 3 2 1 \n"
     ]
    }
   ],
   "source": [
    "for i in range(1,5):\n",
    "    for j in range(5,0,-1):\n",
    "        print(j,end=' ');\n",
    "    print()"
   ]
  },
  {
   "cell_type": "markdown",
   "metadata": {},
   "source": [
    "### 4 Write a program in Python to print following pattern using loop:\n",
    "    * \n",
    "    * * \n",
    "    * * * \n",
    "    * * * * \n",
    "    * * * * *"
   ]
  },
  {
   "cell_type": "code",
   "execution_count": 5,
   "metadata": {},
   "outputs": [
    {
     "name": "stdout",
     "output_type": "stream",
     "text": [
      "*     \n",
      "* *    \n",
      "* * *   \n",
      "* * * *  \n",
      "* * * * * \n"
     ]
    }
   ],
   "source": [
    "for i in range(5):\n",
    "    for j in range(5):\n",
    "        if i>=j:\n",
    "            print('*',end=' ')\n",
    "        else:\n",
    "            print('',end=' ')\n",
    "    print()"
   ]
  },
  {
   "cell_type": "markdown",
   "metadata": {},
   "source": [
    "### 5 Write a program in Python to print following pattern using loop:\n",
    "    * * * * * \n",
    "      * * * * \n",
    "        * * * \n",
    "          * * \n",
    "            * "
   ]
  },
  {
   "cell_type": "code",
   "execution_count": 9,
   "metadata": {},
   "outputs": [
    {
     "name": "stdout",
     "output_type": "stream",
     "text": [
      "* * * * * \n",
      "  * * * * \n",
      "    * * * \n",
      "      * * \n",
      "        * \n"
     ]
    }
   ],
   "source": [
    "for i in range(5):\n",
    "    for j in range(5):\n",
    "        if i<=j:\n",
    "            print('*',end=' ')\n",
    "        else:\n",
    "            print(' ',end=' ')\n",
    "    print()"
   ]
  },
  {
   "cell_type": "markdown",
   "metadata": {},
   "source": [
    "### 6 Write a program in Python to print Floyd triangle for range entered by user\n",
    "For example: range=4\n",
    "\n",
    "    1 \n",
    "    2 3 \n",
    "    4 5 6     \n",
    "    7 8 9 10"
   ]
  },
  {
   "cell_type": "code",
   "execution_count": 31,
   "metadata": {
    "scrolled": false
   },
   "outputs": [
    {
     "name": "stdout",
     "output_type": "stream",
     "text": [
      "Enterr range (number of lines) 4\n",
      "1 \n",
      "2 3 \n",
      "4 5 6 \n",
      "7 8 9 10 \n"
     ]
    }
   ],
   "source": [
    "n= int (input('Enterr range (number of lines) '))\n",
    "k=1\n",
    "for i in range(1,n+1):\n",
    "    for j in range(1,i+1):\n",
    "        print(k,end=' ')\n",
    "        k+=1\n",
    "    print()"
   ]
  },
  {
   "cell_type": "markdown",
   "metadata": {},
   "source": [
    "### 7 Write a program in Python to take 5 numbers from user and print their factors"
   ]
  },
  {
   "cell_type": "code",
   "execution_count": 27,
   "metadata": {
    "scrolled": false
   },
   "outputs": [
    {
     "name": "stdout",
     "output_type": "stream",
     "text": [
      "5\n",
      "factors of 5 : 1 5\n",
      "15\n",
      "factors of 15 : 1 3 5 15\n",
      "2\n",
      "factors of 2 : 1 2\n",
      "12\n",
      "factors of 12 : 1 2 3 4 6 12\n",
      "0\n",
      "factors of 0 : 1 0\n"
     ]
    }
   ],
   "source": [
    "for i in range(5):\n",
    "    n= int(input())\n",
    "    print('factors of',n,': 1',end=' ')\n",
    "    for j in range(2,n//2+1):\n",
    "        if n%j==0:\n",
    "            print(j,end=' ')\n",
    "    print(n)"
   ]
  },
  {
   "cell_type": "markdown",
   "metadata": {},
   "source": [
    "### 8 Write a program in Python to print all prime numbers between 1 and 20."
   ]
  },
  {
   "cell_type": "code",
   "execution_count": 1,
   "metadata": {
    "scrolled": true
   },
   "outputs": [
    {
     "name": "stdout",
     "output_type": "stream",
     "text": [
      "1 2 3 5 7 11 13 17 19 "
     ]
    }
   ],
   "source": [
    "for i in range(1,21):\n",
    "    dummy=True\n",
    "    for j in range(2,(i//2)+1):\n",
    "        if( i%j == 0 and dummy ):\n",
    "            dummy=False\n",
    "            break\n",
    "    if(dummy):\n",
    "        print(i,end=' ')"
   ]
  },
  {
   "cell_type": "markdown",
   "metadata": {},
   "source": [
    "### 9 Write a program in Python to print the digits of an integer number entered by user. The program should also print the count of digits. For example, if n=235, digits are 2,3 and 5. These can be printed in any order: 5,3,2. The count is 3."
   ]
  },
  {
   "cell_type": "code",
   "execution_count": 2,
   "metadata": {},
   "outputs": [
    {
     "name": "stdout",
     "output_type": "stream",
     "text": [
      "Enter any number to find its all digits:45268\n",
      "digit = 8\n",
      "digit = 6\n",
      "digit = 2\n",
      "digit = 5\n",
      "digit = 4\n",
      "total digits 5\n"
     ]
    }
   ],
   "source": [
    "num=int(input('Enter any number to find its all digits:'))\n",
    "count=0\n",
    "while(num != 0):\n",
    "    digit = (num % 10)\n",
    "    num =num//10\n",
    "    print('digit =',digit)\n",
    "    count+=1\n",
    "print('total digits',count)"
   ]
  },
  {
   "cell_type": "markdown",
   "metadata": {},
   "source": [
    "### 10 Write a program to input 3 numbers and print the sum of their digits. For example, if n=124, sum = 1+2+4=7."
   ]
  },
  {
   "cell_type": "code",
   "execution_count": 5,
   "metadata": {
    "scrolled": true
   },
   "outputs": [
    {
     "name": "stdout",
     "output_type": "stream",
     "text": [
      "Enter any number to find its all digits:452\n",
      "sum of digits:  11\n",
      "Enter any number to find its all digits:361\n",
      "sum of digits:  10\n",
      "Enter any number to find its all digits:50129\n",
      "sum of digits:  17\n"
     ]
    }
   ],
   "source": [
    "for i in range(3):\n",
    "    num=int(input('Enter any number to find its all digits:'))\n",
    "    summ=0\n",
    "    while(num != 0):\n",
    "        digit = (num % 10)\n",
    "        num =num//10\n",
    "        summ+=digit\n",
    "    print('sum of digits: ',summ)"
   ]
  },
  {
   "cell_type": "markdown",
   "metadata": {},
   "source": [
    "## Optional Questions"
   ]
  },
  {
   "cell_type": "markdown",
   "metadata": {},
   "source": [
    "### 11 Print the following output using a Python program:\n",
    "    1  2  3  4  5    \n",
    "    1  2  3  4  5    \n",
    "    1  2  3  4  5    \n",
    "    1  2  3  4  5"
   ]
  },
  {
   "cell_type": "code",
   "execution_count": 18,
   "metadata": {
    "scrolled": false
   },
   "outputs": [
    {
     "name": "stdout",
     "output_type": "stream",
     "text": [
      "1 2 3 4 5 \n",
      "1 2 3 4 5 \n",
      "1 2 3 4 5 \n",
      "1 2 3 4 5 \n"
     ]
    }
   ],
   "source": [
    "for i in range(1,5):\n",
    "    for j in range(1,6):\n",
    "        print(j,end=' ');\n",
    "    print()"
   ]
  },
  {
   "cell_type": "markdown",
   "metadata": {},
   "source": [
    "### 12 Write a program in Python to print tilted line of length entered by user:\n",
    "For len=3. Output should look like:\n",
    "\n",
    "    \\\n",
    "     \\\n",
    "      \\"
   ]
  },
  {
   "cell_type": "code",
   "execution_count": 44,
   "metadata": {
    "scrolled": true
   },
   "outputs": [
    {
     "name": "stdout",
     "output_type": "stream",
     "text": [
      "Enter length of line 5\n",
      "\\\n",
      " \\\n",
      "  \\\n",
      "   \\\n",
      "    \\\n"
     ]
    }
   ],
   "source": [
    "n=int(input('Enter length of line '))\n",
    "for i in range(n):\n",
    "    for j in range(i+1):\n",
    "        if i==j:\n",
    "            print('\\\\',end='')\n",
    "        else:\n",
    "            print(' ',end='')\n",
    "    print()\n",
    "    "
   ]
  },
  {
   "cell_type": "markdown",
   "metadata": {},
   "source": [
    "### 13 Write a program in Python to print following pattern using loop.\n",
    "\n",
    "             *\n",
    "           * *\n",
    "         * * *\n",
    "       * * * *\n",
    "     * * * * *"
   ]
  },
  {
   "cell_type": "code",
   "execution_count": 6,
   "metadata": {},
   "outputs": [
    {
     "name": "stdout",
     "output_type": "stream",
     "text": [
      "        * \n",
      "      * * \n",
      "    * * * \n",
      "  * * * * \n",
      "* * * * * \n"
     ]
    }
   ],
   "source": [
    "for i in range(1,6):\n",
    "    for j in range(1,6):\n",
    "        if i+j>=6:\n",
    "            print('*',end=' ')\n",
    "        else:\n",
    "            print(' ',end=' ')\n",
    "    print()"
   ]
  },
  {
   "cell_type": "markdown",
   "metadata": {},
   "source": [
    "### 14 Write a program in Python to print following pattern using loop:\n",
    "    * * * * *\n",
    "    * * * *\n",
    "    * * *    \n",
    "    * *\n",
    "    * "
   ]
  },
  {
   "cell_type": "code",
   "execution_count": 8,
   "metadata": {
    "scrolled": false
   },
   "outputs": [
    {
     "name": "stdout",
     "output_type": "stream",
     "text": [
      "* * * * * \n",
      "* * * *   \n",
      "* * *     \n",
      "* *       \n",
      "*         \n"
     ]
    }
   ],
   "source": [
    "for i in range(1,6):\n",
    "    for j in range(1,6):\n",
    "        if i+j<=6:\n",
    "            print('*',end=' ')\n",
    "        else:\n",
    "            print(' ',end=' ')\n",
    "    print()"
   ]
  },
  {
   "cell_type": "markdown",
   "metadata": {},
   "source": [
    "### 15 Write a program in Python to draw a pencil using loop.\n",
    "       * \n",
    "      * * \n",
    "     * * * \n",
    "    | | | |\n",
    "    | | | |\n",
    "    | | | |\n",
    "    | | | |\n",
    "    | | | |\n",
    "    | | | |"
   ]
  },
  {
   "cell_type": "code",
   "execution_count": 16,
   "metadata": {
    "scrolled": true
   },
   "outputs": [
    {
     "name": "stdout",
     "output_type": "stream",
     "text": [
      "   * \n",
      "  * * \n",
      " * * * \n",
      "| | | | \n",
      "| | | | \n",
      "| | | | \n",
      "| | | | \n",
      "| | | | \n",
      "| | | | \n"
     ]
    }
   ],
   "source": [
    "for i in range(1,10):\n",
    "    for j in range(1,5):\n",
    "        if i+j>=5:\n",
    "            if(i<4):\n",
    "                print('*',end=' ')\n",
    "            else:\n",
    "                print('|',end=' ')\n",
    "        else:\n",
    "            print('',end=' ')\n",
    "    print()"
   ]
  },
  {
   "cell_type": "markdown",
   "metadata": {},
   "source": [
    "### 16 Write a program in Python to print XYZ pattern using loop."
   ]
  },
  {
   "cell_type": "code",
   "execution_count": 12,
   "metadata": {},
   "outputs": [
    {
     "name": "stdout",
     "output_type": "stream",
     "text": [
      "*       **       ** * * * *      \n",
      " *     *  *     *        *   \n",
      "  *   *    *   *        *    \n",
      "   * *      * *        *     \n",
      "    *        *        *      \n",
      "   * *      *        *       \n",
      "  *   *    *        *        \n",
      " *     *  *        *         \n",
      "*       **        * * * * *      \n"
     ]
    }
   ],
   "source": [
    "for i in range(1,10):\n",
    "    for j in range(1,10):\n",
    "        if i==j or i+j==10 :\n",
    "            print('*',end='')\n",
    "        else:\n",
    "            print(' ',end='')\n",
    "            \n",
    "    for j in range(1,10):\n",
    "        if (i==j and i<5) or i+j==10 :\n",
    "            print('*',end='')\n",
    "        else:\n",
    "            print(' ',end='')\n",
    "        \n",
    "    for j in range(1,10):\n",
    "        if ((i==1 or i==9) and j<=5) or (i+j==10 and (i!=1 or i==9)):\n",
    "            print('*',end=' ')\n",
    "        else:\n",
    "            print(' ',end='')\n",
    "    print(' ')\n",
    "    "
   ]
  },
  {
   "cell_type": "code",
   "execution_count": null,
   "metadata": {
    "collapsed": true
   },
   "outputs": [],
   "source": []
  }
 ],
 "metadata": {
  "kernelspec": {
   "display_name": "Python 3",
   "language": "python",
   "name": "python3"
  },
  "language_info": {
   "codemirror_mode": {
    "name": "ipython",
    "version": 3
   },
   "file_extension": ".py",
   "mimetype": "text/x-python",
   "name": "python",
   "nbconvert_exporter": "python",
   "pygments_lexer": "ipython3",
   "version": "3.6.5"
  }
 },
 "nbformat": 4,
 "nbformat_minor": 2
}
