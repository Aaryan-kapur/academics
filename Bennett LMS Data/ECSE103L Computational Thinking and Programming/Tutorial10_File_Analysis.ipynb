{
 "cells": [
  {
   "cell_type": "markdown",
   "metadata": {},
   "source": [
    "### Ques 1. File analysis:\n",
    "- Find total number of words in the file.\n",
    "- Find number of sentences in the file.\n",
    "- Find frequency of each letter in the file (exclude special character, digits)\n",
    "- Find highest used letter in the file.\n",
    "- Find highest used vowel and consonant.\n",
    "\n",
    "\n",
    "Make a summary of following findings and store in a new file named as <givenfile>_summary.txt "
   ]
  },
  {
   "cell_type": "code",
   "execution_count": 32,
   "metadata": {},
   "outputs": [
    {
     "name": "stdout",
     "output_type": "stream",
     "text": [
      "Total words:    169\n",
      "Number of sentences:     8\n",
      "Highest used letter in the file is ' e ' which has apeared 92 times\n",
      "highest used vowel : e\n",
      "highest used consonant : n\n"
     ]
    }
   ],
   "source": [
    "def frequentChar(data):        \n",
    "        d = {}\n",
    "        for ch in data.replace(' ', '').lower():\n",
    "            if ch.isalpha(): # add aplhabets and their frequency to dictionary\n",
    "                if ch in d:  \n",
    "                    d[ch] += 1\n",
    "                else:\n",
    "                    d[ch] = 1\n",
    "        frequent = max(d, key = d.get)      \n",
    "        print(\"Highest used letter in the file is \\'\",frequent, \"\\' which has apeared\", d[frequent], \"times\")\n",
    "        \n",
    "        #for ch in sorted(d): # print dictionary in sorted order\n",
    "        #    print(ch, d[ch])\n",
    "        \n",
    "        return frequent, d[frequent], d\n",
    "\n",
    "def hightVowelConsonant(dc):\n",
    "    vowels = ['a','e','i','o','u'] # list of vowels\n",
    "    maxVowelChar = ''\n",
    "    maxVowelCount = 0\n",
    "    \n",
    "    maxConsonantChar = ''\n",
    "    maxConsonantCount = 0\n",
    "    \n",
    "    for k,v in dc.items():   # highest used vowel\n",
    "        if k in vowels:\n",
    "            if v > maxVowelCount:\n",
    "                maxVowelChar = k\n",
    "                maxVowelCount = v\n",
    "                #print(k, v)\n",
    "    print(\"highest used vowel :\", maxVowelChar)\n",
    "    \n",
    "    for k,v in dc.items():   # highest used Consonant\n",
    "        if k not in vowels:\n",
    "            if v > maxConsonantCount:\n",
    "                maxConsonantChar = k\n",
    "                maxConsonantCount = v\n",
    "                #print(k, v)\n",
    "    print(\"highest used consonant :\", maxConsonantChar)\n",
    "    \n",
    "    return maxVowelChar, maxConsonantChar\n",
    "    \n",
    "    \n",
    "def numberWordsSentences(data):\n",
    "    words = len(data.split())\n",
    "    sentences = data.count('.')\n",
    "    print('Total words:   ', words)\n",
    "    print('Number of sentences:    ', sentences)\n",
    "    return words, sentences\n",
    "    \n",
    "\n",
    "with open('python.txt', 'r') as f:\n",
    "    fdata = f.read()\n",
    "\n",
    "words, sentences = numberWordsSentences(fdata)\n",
    "fchar, count, dictionary = frequentChar(fdata)  \n",
    "vowelmax, consonantmax = hightVowelConsonant(dictionary) \n",
    "\n",
    "\n",
    "with open(\"python_summary.txt\", \"w\") as newfile:\n",
    "    \n",
    "    newfile.write('Total words:'+str(words)+\"\\n\")\n",
    "    newfile.write('Number of sentences:'+str(sentences)+\"\\n\")\n",
    "    newfile.write(\"Highest used letter in the file is \\'\" +fchar+ \"\\' which has apeared \"+ str(count)+ \" times\\n\")\n",
    "    newfile.write('Highest used vowel is:'+vowelmax+\"\\n\")\n",
    "    newfile.write('Highest used consonant is:'+consonantmax+\"\\n\\n\")\n",
    "    \n",
    "    newfile.write('Letters and their frequencies \\n')\n",
    "    for key,value in sorted(dictionary.items()):\n",
    "        newfile.write(key+\":\"+str(value)+'\\n')\n",
    "    "
   ]
  }
 ],
 "metadata": {
  "kernelspec": {
   "display_name": "Python 3",
   "language": "python",
   "name": "python3"
  },
  "language_info": {
   "codemirror_mode": {
    "name": "ipython",
    "version": 3
   },
   "file_extension": ".py",
   "mimetype": "text/x-python",
   "name": "python",
   "nbconvert_exporter": "python",
   "pygments_lexer": "ipython3",
   "version": "3.6.1"
  }
 },
 "nbformat": 4,
 "nbformat_minor": 2
}
