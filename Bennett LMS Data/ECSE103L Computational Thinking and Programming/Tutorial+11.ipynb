{
 "cells": [
  {
   "cell_type": "code",
   "execution_count": 14,
   "metadata": {},
   "outputs": [
    {
     "name": "stdout",
     "output_type": "stream",
     "text": [
      "Total Holidays 7\n",
      "\n",
      "All Holidays\n",
      "4 Nov Dhanteras\n",
      "7 Nov Diwali\n",
      "9 Nov Bhaidooj\n",
      "15 Mar Holi\n",
      "1 Jan New Year\n",
      "25 Dec Christmas\n",
      "13 Jan Lohri\n",
      "\n",
      "Holiday in the month of Nov\n",
      "4 Dhanteras\n",
      "7 Diwali\n",
      "9 Bhaidooj\n",
      "\n",
      "Holidays in the month of: Jan, Dec, Nov\n",
      "1 New Year\n",
      "13 Lohri\n",
      "25 Christmas\n",
      "4 Dhanteras\n",
      "7 Diwali\n",
      "9 Bhaidooj\n"
     ]
    }
   ],
   "source": [
    "class Holiday:\n",
    "    def __init__(self,name,day,month):\n",
    "        self.name=name\n",
    "        self.day=day\n",
    "        self.month=month\n",
    "\n",
    "class HolidayCalendar:\n",
    "    def __init__(self):\n",
    "        self.holidaylist=[]\n",
    "        \n",
    "    def add_holiday(self,holy_obj):\n",
    "        self.holidaylist.append(holy_obj)\n",
    "        \n",
    "    def total_holiday(self):\n",
    "        return len(self.holidaylist)\n",
    "    \n",
    "    def All_holiday(self):\n",
    "        for i in self.holidaylist:\n",
    "            print(i.day,i.month,i.name)\n",
    "        \n",
    "    def month_holiday(self,month):\n",
    "        for i in self.holidaylist:\n",
    "            if i.month==month:\n",
    "                print(i.day,i.name)\n",
    "                \n",
    "    def allmonth_holiday(self,*a):\n",
    "        for i in a:\n",
    "            for j in self.holidaylist:\n",
    "                if j.month==i:\n",
    "                    print(j.day,j.name)\n",
    "                    \n",
    "h1=Holiday('Dhanteras',4,'Nov')\n",
    "h2=Holiday('Diwali',7,'Nov')\n",
    "h3=Holiday('Bhaidooj',9,'Nov')\n",
    "h4=Holiday('Holi',15,'Mar')\n",
    "h5=Holiday('New Year',1,'Jan')\n",
    "h6=Holiday('Christmas',25,'Dec')\n",
    "h7=Holiday('Lohri',13,'Jan')\n",
    "\n",
    "hc=HolidayCalendar()\n",
    "\n",
    "hc.add_holiday(h1)\n",
    "hc.add_holiday(h2)\n",
    "hc.add_holiday(h3)\n",
    "hc.add_holiday(h4)\n",
    "hc.add_holiday(h5)\n",
    "hc.add_holiday(h6)\n",
    "hc.add_holiday(h7)\n",
    "print('Total Holidays',hc.total_holiday())\n",
    "print('\\nAll Holidays')\n",
    "hc.All_holiday()\n",
    "m='Nov'\n",
    "print('\\nHoliday in the month of',m)\n",
    "hc.month_holiday(m)\n",
    "print('\\nHolidays in the month of: Jan, Dec, Nov')\n",
    "hc.allmonth_holiday('Jan','Dec','Nov')"
   ]
  },
  {
   "cell_type": "code",
   "execution_count": null,
   "metadata": {
    "collapsed": true
   },
   "outputs": [],
   "source": []
  }
 ],
 "metadata": {
  "kernelspec": {
   "display_name": "Python 3",
   "language": "python",
   "name": "python3"
  },
  "language_info": {
   "codemirror_mode": {
    "name": "ipython",
    "version": 3
   },
   "file_extension": ".py",
   "mimetype": "text/x-python",
   "name": "python",
   "nbconvert_exporter": "python",
   "pygments_lexer": "ipython3",
   "version": "3.6.1"
  }
 },
 "nbformat": 4,
 "nbformat_minor": 2
}
