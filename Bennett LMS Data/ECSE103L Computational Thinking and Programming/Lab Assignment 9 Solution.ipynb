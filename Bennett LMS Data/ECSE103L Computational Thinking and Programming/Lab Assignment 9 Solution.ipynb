{
 "cells": [
  {
   "cell_type": "markdown",
   "metadata": {},
   "source": [
    "# Python function  declaration and calling"
   ]
  },
  {
   "cell_type": "raw",
   "metadata": {},
   "source": [
    "Function is used for modularity in the program.\n",
    "\n",
    "def function_name(argument-1, argument-2,argument-3...):\n",
    "    function body\n",
    "    .\n",
    "    .\n",
    "    .\n",
    "    .\n",
    "    .\n",
    "    return var   #not compulsory\n",
    "#function call\n",
    "function_name(10,20,30)"
   ]
  },
  {
   "cell_type": "markdown",
   "metadata": {},
   "source": [
    "## Example: Write a program in python to add three numbers using function"
   ]
  },
  {
   "cell_type": "code",
   "execution_count": null,
   "metadata": {
    "collapsed": true
   },
   "outputs": [],
   "source": [
    "#main program\n",
    "x=int(input(\"enter first number\"))\n",
    "y=int(input(\"enter second number\"))\n",
    "z=int(input(\"enter third number\"))\n",
    "\n",
    "#Function Body\n",
    "def add(a,b,c):\n",
    "    sum=a+b+c\n",
    "    return sum\n",
    "\n",
    "#Function Calling\n",
    "print(\"sum of three nubers is \", add(x,y,z))"
   ]
  },
  {
   "cell_type": "markdown",
   "metadata": {},
   "source": [
    " ## 1. Write a program in Python to swap two numbers using function."
   ]
  },
  {
   "cell_type": "code",
   "execution_count": null,
   "metadata": {
    "collapsed": true
   },
   "outputs": [],
   "source": [
    "def swap(a,b):\n",
    "    "
   ]
  },
  {
   "cell_type": "code",
   "execution_count": null,
   "metadata": {},
   "outputs": [],
   "source": [
    "def swap0(s1, s2):\n",
    "    tmp = s1\n",
    "    s1 = s2\n",
    "    s2 = tmp\n",
    "    return s1,s2;\n",
    "\n",
    "s1 = 10\n",
    "s2 = 20\n",
    "s1,s2=swap0(s1, s2)\n",
    "print (s1, s2)"
   ]
  },
  {
   "cell_type": "markdown",
   "metadata": {},
   "source": [
    "## 2. Write a program in Python to check a given number is even or odd using the function."
   ]
  },
  {
   "cell_type": "code",
   "execution_count": null,
   "metadata": {},
   "outputs": [],
   "source": [
    "def cEvenOdd(a):\n",
    "    if(a%2==0):\n",
    "        return 1\n",
    "    else:\n",
    "        return 0\n",
    "a=20\n",
    "print(cEvenOdd(a))"
   ]
  },
  {
   "cell_type": "markdown",
   "metadata": {},
   "source": [
    "## 3. Write a program in python to check wheather the given number is prime using function. Print the output outside the function."
   ]
  },
  {
   "cell_type": "code",
   "execution_count": null,
   "metadata": {},
   "outputs": [],
   "source": [
    "def cPrime(a):\n",
    "    for i in range(1,a):\n",
    "        if(a%i==0):\n",
    "            return 0\n",
    "        else:\n",
    "            return 1\n",
    "a=12\n",
    "print(cPrime(a))"
   ]
  },
  {
   "cell_type": "markdown",
   "metadata": {},
   "source": [
    "## 4. Define a function of two variable 4x3+2y+7. and evaluate the function on points (10,-2)."
   ]
  },
  {
   "cell_type": "code",
   "execution_count": null,
   "metadata": {},
   "outputs": [],
   "source": [
    "def funev(x,y):\n",
    "    return 4*(x**3)+2*y+7\n",
    "x=10\n",
    "y=-2\n",
    "print(funev(x,y))"
   ]
  },
  {
   "cell_type": "markdown",
   "metadata": {},
   "source": [
    "## 5. Write a program in Python to print the table of a given number using function and loop."
   ]
  },
  {
   "cell_type": "code",
   "execution_count": null,
   "metadata": {},
   "outputs": [],
   "source": [
    "def table(n):\n",
    "    for i in range(1,11):\n",
    "        print(n*i)\n",
    "n=5\n",
    "table(n)"
   ]
  },
  {
   "cell_type": "markdown",
   "metadata": {},
   "source": [
    "## 6.  Write a program in Python to check whether a number entered by the users is an Armstrong number or not. 153 is an Armstrong number as 153 = pow(1,3)+pow(5,3)+pow(3,3), while 125 is not an Armstrong number because 125≠1**3+2**3+5**3. The program should allow the user to input any 5 numbers for testing using function. "
   ]
  },
  {
   "cell_type": "code",
   "execution_count": null,
   "metadata": {},
   "outputs": [],
   "source": [
    "def armstrong(n):\n",
    "#write your code here for check the armstrong number.\n",
    "    m=n\n",
    "    s=0\n",
    "    while(n>0):\n",
    "        r=n%10\n",
    "        n=n//10\n",
    "        s=s+r**3\n",
    "    if(s==m):\n",
    "        return True\n",
    "    else:\n",
    "        return False\n",
    "\n",
    "#calling\n",
    "n=int(input(\"How many numbers you want to test for Armstrong number\"))\n",
    "for i in range(0,n):\n",
    "    x=int(input(\"Enter the number to be checked for Armstrong Number\"))\n",
    "    print(\"Result of checking of armstrong number for Given Number \",x,\"is\",armstrong(n))"
   ]
  },
  {
   "cell_type": "markdown",
   "metadata": {},
   "source": [
    "## 7.  Suppose there is an election in which there are 4 candidates with names “Lion King”, “King of the Ring”, “Lord of the Ring” and “Singh is King”. There are 20 people who are to vote for these 4 candidates. Write a program in Python to input the votes by 20 people and declare the result of the winner. If two candidates get draw, then perform a random voting in between two candidates."
   ]
  },
  {
   "cell_type": "code",
   "execution_count": 19,
   "metadata": {},
   "outputs": [
    {
     "name": "stdout",
     "output_type": "stream",
     "text": [
      "Enter the votes of 20 people as 1 for Lion_King, 2 for Lion_King, 3 for  Lord_of_the_Ring and 4 for Singh_is_King \n",
      "1\n",
      "1\n",
      "1\n",
      "1\n",
      "1\n",
      "1\n",
      "1\n",
      "1\n",
      "1\n",
      "1\n",
      "2\n",
      "2\n",
      "2\n",
      "2\n",
      "3\n",
      "3\n",
      "3\n",
      "4\n",
      "4\n",
      "2\n",
      "Winner is : Lion_King\n"
     ]
    }
   ],
   "source": [
    "def election():\n",
    "    Lion_King=0\n",
    "    King_of_the_Ring=0\n",
    "    Lord_of_the_Ring=0\n",
    "    Singh_is_King=0\n",
    "    print(\"Enter the votes of 20 people as 1 for Lion_King, 2 for Lion_King, 3 for  Lord_of_the_Ring and 4 for Singh_is_King \")\n",
    "    for i in range(0,20):\n",
    "        x=int(input())\n",
    "        if(x==1):\n",
    "            Lion_King=Lion_King+1\n",
    "        elif(x==2):\n",
    "            King_of_the_Ring=King_of_the_Ring+1\n",
    "        elif(x==3):\n",
    "            Lord_of_the_Ring=Lord_of_the_Ring+1\n",
    "        else:\n",
    "            Singh_is_King=Singh_is_King+1\n",
    "            \n",
    "    #a=max(Lion_King,King_of_the_Ring,Lord_of_the_Ring,Singh_is_King)\n",
    "    #print(a)\n",
    "    if(Lion_King > King_of_the_Ring) and (Lion_King > Lord_of_the_Ring) and (Lion_King > Singh_is_King) :\n",
    "        print(\"Winner is : Lion_King\")\n",
    "    elif(King_of_the_Ring > Lion_King) and (King_of_the_Ring > Lord_of_the_Ring) and (King_of_the_Ring > Singh_is_King):\n",
    "        print(\"Winner is : King_of_the_Ring\")\n",
    "    elif(Lord_of_the_Ring>Lion_King) and (Lord_of_the_Ring>King_of_the_Ring) and (Lord_of_the_Ring>Singh_is_King):\n",
    "        print(\"winner is : Lord_of_the_Ring\")\n",
    "    else:\n",
    "        print(\"Winner is: Singh_is_King\")\n",
    "election()\n",
    "            \n",
    "            \n",
    "            \n",
    "        "
   ]
  },
  {
   "cell_type": "markdown",
   "metadata": {},
   "source": [
    "## 8. Write a program which takes an integer from the user and checks if the number is a palindrome or not and return the true and false value."
   ]
  },
  {
   "cell_type": "code",
   "execution_count": 9,
   "metadata": {},
   "outputs": [
    {
     "name": "stdout",
     "output_type": "stream",
     "text": [
      "Enter number:121\n",
      "The number is a palindrome!\n"
     ]
    }
   ],
   "source": [
    "def checkpalindrome(n):\n",
    "    temp=n\n",
    "    rev=0\n",
    "    while(n>0):\n",
    "        dig=n%10\n",
    "        rev=rev*10+dig\n",
    "        n=n//10\n",
    "    if(temp==rev):\n",
    "        print(\"The number is a palindrome!\")\n",
    "    else:\n",
    "        print(\"The number isn't a palindrome!\")\n",
    "n=int(input(\"Enter number:\"))\n",
    "checkpalindrome(n)\n"
   ]
  },
  {
   "cell_type": "markdown",
   "metadata": {},
   "source": [
    "## 9. Write a program to take the values of two integers m and n from the user and display and calculate the sum of even number between m and n (including both m and n). Please note that value of m must be less than value of n. "
   ]
  },
  {
   "cell_type": "code",
   "execution_count": 8,
   "metadata": {},
   "outputs": [
    {
     "name": "stdout",
     "output_type": "stream",
     "text": [
      "Enyter the value of m3\n",
      "Enter the value of n11\n",
      "Count of Event numbers between range is 4\n"
     ]
    }
   ],
   "source": [
    "def countEven(m,n):\n",
    "    c=0\n",
    "    for i in range(m,n+1):\n",
    "        if(i%2==0):\n",
    "            c=c+1\n",
    "    return c\n",
    "m=int(input(\"Enter the value of m\"))\n",
    "n=int(input(\"Enter the value of n\"))\n",
    "if(m<n):\n",
    "    print(\"Count of Event numbers between range is\", countEven(m,n))\n",
    "else:\n",
    "    print(\"Invalid Input\")"
   ]
  },
  {
   "cell_type": "markdown",
   "metadata": {},
   "source": [
    "## 10. Write a program to accept characters till the user enters null and count the number of alphabets and digits entered by the user."
   ]
  },
  {
   "cell_type": "code",
   "execution_count": 6,
   "metadata": {},
   "outputs": [
    {
     "name": "stdout",
     "output_type": "stream",
     "text": [
      "Enter N to exit\n",
      "enter value1\n",
      "Enter value2\n",
      "Enter value3\n",
      "Enter valueA\n",
      "Enter valueB\n",
      "Enter valueN\n",
      "The number of digits is:\n",
      "3\n",
      "The number of lowercase characters is:\n",
      "0\n",
      "The number of uppercase characters is:\n",
      "3\n"
     ]
    }
   ],
   "source": [
    "def count():\n",
    "    i=input('enter value')\n",
    "    if(i.isdigit()):\n",
    "        count1=1\n",
    "        count2=0\n",
    "        count3=0\n",
    "    elif(i.islower()):\n",
    "        count1=0\n",
    "        count2=1\n",
    "        count3=0\n",
    "    else:\n",
    "        count1=0\n",
    "        count2=0\n",
    "        count3=1\n",
    "    while (i!='N'):\n",
    "        i=input(\"Enter value\")\n",
    "        if(i.isdigit()):\n",
    "            count1=count1+1\n",
    "        elif(i.islower()):\n",
    "            count2=count2+1\n",
    "        else:\n",
    "            count3=count3+1\n",
    "    return count1,count2,count3\n",
    "print(\"Enter N to exit\")\n",
    "count1,count2,count3=count()\n",
    "print(\"The number of digits is:\")\n",
    "print(count1)\n",
    "print(\"The number of lowercase characters is:\")\n",
    "print(count2)\n",
    "print(\"The number of uppercase characters is:\")\n",
    "print(count3)"
   ]
  },
  {
   "cell_type": "markdown",
   "metadata": {},
   "source": [
    "# 11. Write a program to display the first n Fibonacci numbers. Value of n must be taken from the user using function"
   ]
  },
  {
   "cell_type": "code",
   "execution_count": null,
   "metadata": {},
   "outputs": [],
   "source": [
    "\n",
    "def fab(nterms):\n",
    "    n1 = 0\n",
    "    n2 = 1\n",
    "    count = 0\n",
    "\n",
    "# check if the number of terms is valid\n",
    "    if nterms <= 0:\n",
    "        print(\"Please enter a positive integer\")\n",
    "    elif nterms == 1:\n",
    "        print(\"Fibonacci sequence upto\",nterms,\":\")\n",
    "        print(n1)\n",
    "    else:\n",
    "        print(\"Fibonacci sequence upto\",nterms,\":\")\n",
    "        while count < nterms:\n",
    "            print(n1,end=' , ')\n",
    "            nth = n1 + n2\n",
    "       # update values\n",
    "            n1 = n2\n",
    "            n2 = nth\n",
    "            count += 1\n",
    "n=int(input())\n",
    "fab(n)"
   ]
  },
  {
   "cell_type": "markdown",
   "metadata": {},
   "source": [
    "## 12. Write a python program that calculates the average of a group of 4 test scores, where the lowwest score in the group should be dropped. your program should use the following user defined functions.\n",
    "### a.function avg that calculates and displays the average of three highest scores. This function should be called just one time by the main, and should be passed the four scores.\n",
    "### b. function find_lowest that finds and returns the lowest of the four scores passed to it. It should be called by avg, which uses the function to determine which of the four score to drop. "
   ]
  },
  {
   "cell_type": "code",
   "execution_count": null,
   "metadata": {},
   "outputs": [],
   "source": [
    "def avg(a,b,c,d):\n",
    "    m=minimum(a,b,c,d)\n",
    "    if(m==a):\n",
    "        return (b+c+d)/3\n",
    "    elif(m==b):\n",
    "        return (a+c+d)/3\n",
    "    elif(m==c):\n",
    "        return (a+b+d)/3\n",
    "    else:\n",
    "        return (a+b+c)/3\n",
    "def minimum(a,b,c,d):\n",
    "    if(a < b and a < c and a < d):\n",
    "        return a\n",
    "    elif(b < a and b < c and c < d): \n",
    "        return b\n",
    "    elif(c < a and c < b and c < d): \n",
    "        return c\n",
    "    else:\n",
    "        return d\n",
    "a=int(input())\n",
    "b=int(input())\n",
    "c=int(input())\n",
    "d=int(input())\n",
    "print('requred average',avg(a,b,c,d))\n",
    "        \n",
    "    "
   ]
  },
  {
   "cell_type": "markdown",
   "metadata": {},
   "source": [
    "## 13. Write a python function for a scintific calculator that performs addition, subtraction, multiplication, division, modulus, sign, cos, tan, etc... "
   ]
  },
  {
   "cell_type": "code",
   "execution_count": null,
   "metadata": {},
   "outputs": [],
   "source": [
    "import math\n",
    "def sin(a):\n",
    "    return math.sin(a)\n",
    "def cos(a):\n",
    "    return math.cos(a)\n",
    "def tan(a):\n",
    "    return math.tan(a)\n",
    "\n",
    "def add(x, y):\n",
    "   return x + y\n",
    "\n",
    "# This function subtracts two numbers \n",
    "def subtract(x, y):\n",
    "   return x - y\n",
    "\n",
    "# This function multiplies two numbers\n",
    "def multiply(x, y):\n",
    "   return x * y\n",
    "\n",
    "# This function divides two numbers\n",
    "def divide(x, y):\n",
    "   return x / y\n",
    "\n",
    "print(\"Select operation.\")\n",
    "print(\"1.Add\")\n",
    "print(\"2.Subtract\")\n",
    "print(\"3.Multiply\")\n",
    "print(\"4.Divide\")\n",
    "print(\"5.Sin\")\n",
    "print(\"6.cos\")\n",
    "print(\"7.tan\")\n",
    "\n",
    "# Take input from the user \n",
    "choice = input(\"Enter choice(1/2/3/4/5/6/7):\")\n",
    "\n",
    "if choice == '1':\n",
    "    num1 = int(input(\"Enter first number: \"))\n",
    "    num2 = int(input(\"Enter second number: \"))\n",
    "    print(num1,\"+\",num2,\"=\", add(num1,num2))\n",
    "\n",
    "elif choice == '2':\n",
    "    num1 = int(input(\"Enter first number: \"))\n",
    "    num2 = int(input(\"Enter second number: \"))\n",
    "    print(num1,\"-\",num2,\"=\", subtract(num1,num2))\n",
    "\n",
    "elif choice == '3':\n",
    "    num1 = int(input(\"Enter first number: \"))\n",
    "    num2 = int(input(\"Enter second number: \"))\n",
    "    print(num1,\"*\",num2,\"=\", multiply(num1,num2))\n",
    "\n",
    "elif choice == '4':\n",
    "    num1 = int(input(\"Enter first number: \"))\n",
    "    num2 = int(input(\"Enter second number: \"))\n",
    "    print(num1,\"/\",num2,\"=\", divide(num1,num2))\n",
    "elif choice == '5':\n",
    "    num1 = int(input(\"Enter first number: \"))\n",
    "    print(num1,\"of Sin\",num2,\"=\", sin(num1))\n",
    "elif choice == '6':\n",
    "    num1 = int(input(\"Enter first number: \"))\n",
    "    print(num1,\"of cos\",num2,\"=\", cos(num1))\n",
    "elif choice == '7':\n",
    "    num1 = int(input(\"Enter first number: \"))\n",
    "    print(num1,\"of tan\",num2,\"=\", tan(num1))\n",
    "else:\n",
    "    print(\"Invalid Input\")"
   ]
  },
  {
   "cell_type": "markdown",
   "metadata": {},
   "source": [
    "## 14. The total distance travelled by vehicle in ‘t’ seconds is given by distance = ut+1/2at2 where ‘u’ and ‘a’ are the initial velocity (m/sec.) and acceleration (m/sec2). Write a python program to find the distance travelled at regular intervals of time given the values of ‘u’ and ‘a’. The program should provide the flexibility to the user to select his own time intervals and repeat the calculations for different values of ‘u’ and ‘a’."
   ]
  },
  {
   "cell_type": "code",
   "execution_count": 20,
   "metadata": {},
   "outputs": [
    {
     "name": "stdout",
     "output_type": "stream",
     "text": [
      "Enter the initial value of velocity 20\n",
      "enter the acceleration10\n",
      "Eneter the number of time intervals you want to check 3\n",
      "enter the time10\n",
      "distance traveled for this time interval is 200.0005\n",
      "enter the time15\n",
      "distance traveled for this time interval is 300.00022222222225\n",
      "enter the time209\n",
      "distance traveled for this time interval is 4180.000001144663\n"
     ]
    }
   ],
   "source": [
    "def distanceTravel(u,a,t):\n",
    "    return u*t+1/(2*a*t*t)\n",
    "u=int(input(\"Enter the initial value of velocity \"))\n",
    "a=int(input(\"enter the acceleration\"))\n",
    "n=int(input(\"Eneter the number of time intervals you want to check \"))\n",
    "for i in range(0,n):\n",
    "    t=int(input(\"enter the time\"))\n",
    "    print(\"distance traveled for this time interval is\",distanceTravel(u,a,t))"
   ]
  }
 ],
 "metadata": {
  "kernelspec": {
   "display_name": "Python 3",
   "language": "python",
   "name": "python3"
  },
  "language_info": {
   "codemirror_mode": {
    "name": "ipython",
    "version": 3
   },
   "file_extension": ".py",
   "mimetype": "text/x-python",
   "name": "python",
   "nbconvert_exporter": "python",
   "pygments_lexer": "ipython3",
   "version": "3.6.6"
  }
 },
 "nbformat": 4,
 "nbformat_minor": 2
}
