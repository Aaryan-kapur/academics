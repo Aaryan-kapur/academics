{
  "nbformat": 4,
  "nbformat_minor": 0,
  "metadata": {
    "colab": {
      "name": "Untitled3.ipynb",
      "version": "0.3.2",
      "provenance": [],
      "collapsed_sections": []
    },
    "kernelspec": {
      "name": "python3",
      "display_name": "Python 3"
    }
  },
  "cells": [
    {
      "metadata": {
        "id": "6rJY83m15Q-l",
        "colab_type": "code",
        "colab": {
          "base_uri": "https://localhost:8080/",
          "height": 90
        },
        "outputId": "190d6ade-b773-4768-a6a4-fcad96f42da4"
      },
      "cell_type": "code",
      "source": [
        "##This example explained in the class\n",
        "class player:\n",
        "    def __init__(self, name, age):\n",
        "        self.name=name\n",
        "        self.age=age\n",
        "        \n",
        "class batsman(player):\n",
        "    def __init__(self,name,age,run,ball,rrbat):\n",
        "        player.__init__(self,name,age)\n",
        "        self.run=run\n",
        "        self.ball=ball\n",
        "        self.rrbat=rrbat\n",
        "class bowler(player):\n",
        "    def __init__(self,name,age,over,wicket,rrball,run):\n",
        "        player.__init__(self,name,age)\n",
        "        self.over=over\n",
        "        self.wicket=wicket\n",
        "        self.rrball=rrball\n",
        "        self.run=run\n",
        "class allrounder(batsman,bowler):\n",
        "      def __init__(self,name,age,run,ball,rrbat,over,wicket,rrball):\n",
        "          batsman.__init__(self,name,age,run,ball,rrbat)\n",
        "          bowler.__init__(self,name,age,over,wicket,rrball,run)\n",
        "\n",
        "aa=allrounder('ram',26,123,100,123.00,10,3,5.6)\n",
        "print(aa.name)\n",
        "print(aa.age)\n",
        "print(aa.rrball)\n",
        "print(aa.over)\n",
        "    "
      ],
      "execution_count": 8,
      "outputs": [
        {
          "output_type": "stream",
          "text": [
            "ram\n",
            "26\n",
            "5.6\n",
            "10\n"
          ],
          "name": "stdout"
        }
      ]
    },
    {
      "metadata": {
        "id": "86sCBhVQ8khv",
        "colab_type": "code",
        "colab": {
          "base_uri": "https://localhost:8080/",
          "height": 108
        },
        "outputId": "ce896bea-cf39-418f-db10-3b903f8c6936"
      },
      "cell_type": "code",
      "source": [
        "class student:\n",
        "    count = 0\n",
        "    def __init__(self,name,add,mob,course):\n",
        "        self.name=name\n",
        "        self.add=add\n",
        "        self.mob=mob\n",
        "        self.course=course\n",
        "        student.count +=1\n",
        "    def updatemob(self,mob):\n",
        "        self.mob=mob\n",
        "    def getmob(self):\n",
        "        return self.mob\n",
        "    def totalstudent(self):\n",
        "        return student.count\n",
        "      \n",
        "s1=student('vvv','abc','456878979','Btech')\n",
        "print(s1.totalstudent())\n",
        "s2=student('aaa','abcd','456878979','Btech')\n",
        "print(s1.totalstudent())\n",
        "s3=student('bbb','abcf','456878979','Btech')\n",
        "print(s1.totalstudent())\n",
        "print(s2.totalstudent())\n",
        "print(s3.totalstudent())\n"
      ],
      "execution_count": 3,
      "outputs": [
        {
          "output_type": "stream",
          "text": [
            "1\n",
            "2\n",
            "3\n",
            "3\n",
            "3\n"
          ],
          "name": "stdout"
        }
      ]
    },
    {
      "metadata": {
        "id": "uwBL3_Y5PY4u",
        "colab_type": "code",
        "colab": {}
      },
      "cell_type": "code",
      "source": [
        ""
      ],
      "execution_count": 0,
      "outputs": []
    }
  ]
}