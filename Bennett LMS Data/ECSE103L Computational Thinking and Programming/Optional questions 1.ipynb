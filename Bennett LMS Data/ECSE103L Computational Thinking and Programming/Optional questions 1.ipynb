{
 "cells": [
  {
   "cell_type": "markdown",
   "metadata": {},
   "source": [
    "######  Raman likes tea but he has coffee. Riya likes coffee but has tea. Write a program in python so that both can enjoy what they like."
   ]
  },
  {
   "cell_type": "code",
   "execution_count": null,
   "metadata": {
    "collapsed": false,
    "scrolled": true
   },
   "outputs": [],
   "source": [
    "raman= 'Coffee' \n",
    "riya= 'Tea'\n",
    "temp=raman\n",
    "raman=riya\n",
    "riya=temp\n",
    "print('Raman has: ', raman, ' Riya has: ', riya)"
   ]
  },
  {
   "cell_type": "markdown",
   "metadata": {},
   "source": [
    "###### Write a program to solve the following expression.\n",
    "'Python'= 642"
   ]
  },
  {
   "cell_type": "code",
   "execution_count": null,
   "metadata": {
    "collapsed": false,
    "scrolled": true
   },
   "outputs": [],
   "source": [
    "s=0\n",
    "for i in 'Python':\n",
    "    s+=ord(i)\n",
    "print(s)\n",
    "    "
   ]
  },
  {
   "cell_type": "markdown",
   "metadata": {},
   "source": [
    "###### Write a program in python to convert from degree to radian and from radian to degree."
   ]
  },
  {
   "cell_type": "code",
   "execution_count": null,
   "metadata": {
    "collapsed": true
   },
   "outputs": [],
   "source": [
    "pi=22/7\n",
    "degree = float(input(\"Input degrees: \"))\n",
    "radian = degree*(pi/180)\n",
    "print(degree,'deg = ',radian,'rad')"
   ]
  },
  {
   "cell_type": "markdown",
   "metadata": {},
   "source": [
    "###### Write a program in Python to convert number 13 into 79. Students may introduce one more variable and  use bitwise operators (such as AND, OR, XOR). "
   ]
  },
  {
   "cell_type": "code",
   "execution_count": null,
   "metadata": {
    "collapsed": true
   },
   "outputs": [],
   "source": [
    "a=13\n",
    "b=79\n",
    "out=a|b\n",
    "print(out)"
   ]
  },
  {
   "cell_type": "markdown",
   "metadata": {},
   "source": [
    "######  Write a program in python to calculate area of triangle when all three sides are given. "
   ]
  },
  {
   "cell_type": "code",
   "execution_count": null,
   "metadata": {
    "collapsed": true
   },
   "outputs": [],
   "source": [
    "import math\n",
    "print('Enter sides of triangle')\n",
    "a=int(input('a '))\n",
    "b=int(input('b '))\n",
    "c=int(input('c '))\n",
    "s=(a+b+c)/2\n",
    "area=math.sqrt(s*(s-a)*(s-b)*(s-c))\n",
    "print('Area of triangle is:',area)"
   ]
  },
  {
   "cell_type": "markdown",
   "metadata": {},
   "source": [
    "###### Write a program in python to perform addition, subtraction, multiplication and division operations on complex numbers. "
   ]
  },
  {
   "cell_type": "code",
   "execution_count": null,
   "metadata": {
    "collapsed": true
   },
   "outputs": [],
   "source": [
    "import cmath\n",
    "a=complex(20+5j)\n",
    "b=complex(5+3j)\n",
    "print('a+b',a+b)\n",
    "print('a-b',a-b)\n",
    "print('a*b',a*b)\n",
    "print('a/b',a/b)"
   ]
  },
  {
   "cell_type": "markdown",
   "metadata": {},
   "source": [
    "###### Write a Python program to find the solution the quadratic equation below:\n",
    "              ax 2+ bx + c = 0\n",
    "The program should print the roots if these are real or equal. It should print 'roots are imaginary' otherwise. \n",
    "Input a, b & C from user."
   ]
  },
  {
   "cell_type": "code",
   "execution_count": 5,
   "metadata": {
    "collapsed": false
   },
   "outputs": [
    {
     "name": "stdout",
     "output_type": "stream",
     "text": [
      "Input value of a:1\n",
      "Input value of b:1\n",
      "Input value of c:1\n",
      "Roots are imaginary\n"
     ]
    }
   ],
   "source": [
    "a=int(input('Input value of a:'))\n",
    "b=int(input('Input value of b:'))\n",
    "c=int(input('Input value of c:'))\n",
    "d=b*b-4*a*c     # calculating discriminant\n",
    "if d>0:\n",
    "    r1=(-b+d**0.5)/ (2*a)\n",
    "    r2=(-b-d**0.5)/ (2*a)\n",
    "    print('Real roots are: ',r1,r2)\n",
    "elif d==0:\n",
    "    \n",
    "    r=-b/(2*a)\n",
    "    print('Equal roots are : ',r)\n",
    "else:\n",
    "    print('Roots are imaginary')\n",
    "\n"
   ]
  },
  {
   "cell_type": "markdown",
   "metadata": {},
   "source": [
    "###### Write a program, which accepts annual basic salary of an employee and calculates and displays the Income tax as per the following rules. \n",
    "If Basic is less than Rs. 1,50,000/-, then Tax = 0\n",
    "If Basic is from Rs. 1,50,000/- to Rs. 3,00,000/-, then tax is 20%\n",
    "If Basic is greater than Rs. 3,00,000/-, then tax is 30%"
   ]
  },
  {
   "cell_type": "code",
   "execution_count": 3,
   "metadata": {
    "collapsed": false
   },
   "outputs": [
    {
     "name": "stdout",
     "output_type": "stream",
     "text": [
      "Enter basic salary:150000\n",
      "Income tax= 30000.0\n"
     ]
    }
   ],
   "source": [
    "basic=float(input('Enter basic salary:'))\n",
    "if basic<150000:\n",
    "    tax=0\n",
    "elif basic<300000:\n",
    "    tax=0.20*basic\n",
    "else:\n",
    "    tax=0.30*basic\n",
    "print(\"Income tax=\",tax)\n"
   ]
  },
  {
   "cell_type": "markdown",
   "metadata": {},
   "source": [
    "###### Write a program to accept characters till the user enters null and count the number of alphabets and digits entered by the user."
   ]
  },
  {
   "cell_type": "code",
   "execution_count": 10,
   "metadata": {
    "collapsed": false
   },
   "outputs": [
    {
     "name": "stdout",
     "output_type": "stream",
     "text": [
      "Do you want to input? Enter '' to stop:y\n",
      "Input a character: 2\n",
      "Do you want to input? Enter '' if you want to stop:y\n",
      "Input a character: d\n",
      "Do you want to input? Enter '' if you want to stop:\n",
      "No. of alphabets:  1 No. of digits: 1\n"
     ]
    }
   ],
   "source": [
    "alpha,digits=0,0\n",
    "choice=input('Do you want to input? Enter \\'\\' to stop:')\n",
    "while choice!='':\n",
    "    ch=input('Input a character: ')\n",
    "    if ch.isdigit():\n",
    "        digits+=1\n",
    "    elif ch.isalpha():\n",
    "        alpha+=1\n",
    "    else:\n",
    "        pass\n",
    "    choice=input('Do you want to input? Enter \\'\\' if you want to stop:')\n",
    "    \n",
    "print('No. of alphabets: ',alpha, 'No. of digits:', digits)"
   ]
  },
  {
   "cell_type": "markdown",
   "metadata": {},
   "source": [
    "###### Write a program in Python to evaluate following series using while loop:\n",
    "    x + 3x + 5x + 7x + 9x + 11x+....upto n terms"
   ]
  },
  {
   "cell_type": "code",
   "execution_count": 6,
   "metadata": {
    "collapsed": false
   },
   "outputs": [
    {
     "name": "stdout",
     "output_type": "stream",
     "text": [
      "Input an integer value for x:2\n",
      "Input an integer value for n:4\n",
      "Sum= 32\n"
     ]
    }
   ],
   "source": [
    "x=int(input('Input an integer value for x:'))\n",
    "n=int(input('Input an integer value for n:'))\n",
    "sum=0\n",
    "j=1\n",
    "for i in range(1,n+1):\n",
    "    sum+= x*j\n",
    "    j=j+2\n",
    "print('Sum=',sum)"
   ]
  },
  {
   "cell_type": "markdown",
   "metadata": {},
   "source": [
    "###### Write a program in Python to compute squares and square roots of numbers from 10 down to 1 using while loop."
   ]
  },
  {
   "cell_type": "code",
   "execution_count": null,
   "metadata": {
    "collapsed": false
   },
   "outputs": [],
   "source": [
    "import math\n",
    "for i in range(10,0,-1):\n",
    "    print(i*i, math.sqrt(i))"
   ]
  },
  {
   "cell_type": "markdown",
   "metadata": {},
   "source": [
    "###### Write a program in Python to evaluate following series using while loop:\n",
    "    1/1! + 2/2! + 3/3! + 4/4! ...+ n/n!\n",
    "hint: use math.factorial(n) function to calculate factorial of number n."
   ]
  },
  {
   "cell_type": "code",
   "execution_count": 3,
   "metadata": {
    "collapsed": false
   },
   "outputs": [
    {
     "name": "stdout",
     "output_type": "stream",
     "text": [
      "Enter an integer value: 2\n",
      "Sum= 2.0\n"
     ]
    }
   ],
   "source": [
    "import math\n",
    "sum=0\n",
    "n=int(input('Enter an integer value: '))\n",
    "for i in range(1,n+1):\n",
    "    f=math.factorial(i)\n",
    "    sum+=i/f\n",
    "print('Sum=',sum)\n",
    "    "
   ]
  },
  {
   "cell_type": "markdown",
   "metadata": {},
   "source": [
    "###### Write a program in Python to print all digits of a number from least signifiant digit to most significant digit using while loop.\n",
    "For Example: \n",
    "Enter any number to find its all digits:895\n",
    "digit = 5\n",
    "digit = 9\n",
    "digit = 8"
   ]
  },
  {
   "cell_type": "code",
   "execution_count": 4,
   "metadata": {
    "collapsed": false
   },
   "outputs": [
    {
     "name": "stdout",
     "output_type": "stream",
     "text": [
      "Enter an integer number:598\n",
      "8\n",
      "9\n",
      "5\n"
     ]
    }
   ],
   "source": [
    "n=int(input('Enter an integer number:'))\n",
    "while n!=0:\n",
    "    d=n%10\n",
    "    print(d)\n",
    "    n=n//10"
   ]
  },
  {
   "cell_type": "markdown",
   "metadata": {},
   "source": [
    "###### Write a program in Python to calculate total number of positive number, negative number and zeros entered by user. The user can enter any number of numbers."
   ]
  },
  {
   "cell_type": "code",
   "execution_count": 3,
   "metadata": {
    "collapsed": false
   },
   "outputs": [
    {
     "name": "stdout",
     "output_type": "stream",
     "text": [
      "Do you want to input? Enter 'no' to stop:y\n",
      "Input any integer number: 12\n",
      "Do you want to input? Enter 'no' if you want to stop:no\n",
      "Positive no.s:  1 Negative no.s: 0 Zeroes: 0\n"
     ]
    }
   ],
   "source": [
    "pos,neg,zero=0,0,0\n",
    "choice=input('Do you want to input? Enter \\'no\\' to stop:')\n",
    "while choice!='no':\n",
    "    n=int(input('Input any integer number: '))\n",
    "    if n==0:\n",
    "        zero+=1\n",
    "    elif n<0:\n",
    "        neg+=1\n",
    "    else:\n",
    "        pos+=1\n",
    "    choice=input('Do you want to input? Enter \\'no\\' if you want to stop:')\n",
    "    \n",
    "print('Positive no.s: ',pos, 'Negative no.s:', neg, 'Zeroes:', zero)"
   ]
  },
  {
   "cell_type": "markdown",
   "metadata": {},
   "source": [
    "###### Write a program in Python to generate and print Fibonacci series upto n numbers where n is input by user."
   ]
  },
  {
   "cell_type": "code",
   "execution_count": null,
   "metadata": {
    "collapsed": true
   },
   "outputs": [],
   "source": [
    "n=int(input())\n",
    "a=0\n",
    "b=1\n",
    "if n==1:\n",
    "    print(a)\n",
    "if n==2:\n",
    "    print(a)\n",
    "    print(b)\n",
    "else:\n",
    "    print(a)\n",
    "    print(b)\n",
    "    for i in range(3,n+1):\n",
    "        c=a+b\n",
    "        print(c)\n",
    "        a=b\n",
    "        b=c"
   ]
  },
  {
   "cell_type": "markdown",
   "metadata": {},
   "source": [
    "###### Write a program in Python to check the validity of password input by users…….(complete details as given) \n",
    "Validation :\n",
    "At least 1 letter between [a-z] and 1 letter between [A-Z].\n",
    "At least 1 number between [0-9].\n",
    "At least 1 character from [$#@].\n",
    "Minimum length 6 characters.\n",
    "Maximum length 16 characters."
   ]
  },
  {
   "cell_type": "markdown",
   "metadata": {},
   "source": [
    "Note: \n",
    "import re      #for searching a pattern in password\n",
    "len()          #For calculating length\n",
    "Example: re.search(\"[a-z]\",p) #to search weather word p has any character between a and z. "
   ]
  },
  {
   "cell_type": "code",
   "execution_count": 4,
   "metadata": {
    "collapsed": false
   },
   "outputs": [
    {
     "name": "stdout",
     "output_type": "stream",
     "text": [
      "Input your password shivani1\n",
      "Invalid Password\n"
     ]
    }
   ],
   "source": [
    "import re\n",
    "p= input(\"Input your password \")\n",
    "x = True\n",
    "while x:  \n",
    "    if (len(p)<6 or len(p)>16):\n",
    "        break\n",
    "    elif not re.search(\"[a-z]\",p):\n",
    "        break\n",
    "    elif not re.search(\"[0-9]\",p):\n",
    "        break\n",
    "    elif not re.search(\"[A-Z]\",p):\n",
    "        break\n",
    "    elif not re.search(\"[$#@]\",p):\n",
    "        break\n",
    "    else:\n",
    "        print(\"Valid Password\")\n",
    "        x=False\n",
    "        break\n",
    "if x:\n",
    "    print(\"Invalid Password\")"
   ]
  },
  {
   "cell_type": "markdown",
   "metadata": {},
   "source": [
    "######  Write a program in Python to calculate the least common multiplier (LCM) of any two integer numbers. First number 24, Second number 36, LCM= 72"
   ]
  },
  {
   "cell_type": "code",
   "execution_count": 5,
   "metadata": {
    "collapsed": false
   },
   "outputs": [
    {
     "name": "stdout",
     "output_type": "stream",
     "text": [
      "enter first number 24\n",
      "enter second number 36\n",
      "LCM= 72\n"
     ]
    }
   ],
   "source": [
    "x=int(input('enter first number '))\n",
    "y=int(input('enter second number '))\n",
    "if x > y:\n",
    "    z = x\n",
    "else:\n",
    "    z = y\n",
    "while(True):\n",
    "    if((z % x == 0) and (z % y == 0)):\n",
    "        lcm = z\n",
    "        break\n",
    "    z += 1\n",
    "print('LCM=',z)    "
   ]
  },
  {
   "cell_type": "markdown",
   "metadata": {},
   "source": [
    "###### Print the following output using a Python program:\n",
    "    1  2  3  4  5    \n",
    "    1  2  3  4  5    \n",
    "    1  2  3  4  5    \n",
    "    1  2  3  4  5"
   ]
  },
  {
   "cell_type": "code",
   "execution_count": null,
   "metadata": {
    "collapsed": true
   },
   "outputs": [],
   "source": [
    "for i in range(1,5):\n",
    "    for j in range(1,6):\n",
    "        print(j,end=' ');\n",
    "    print()"
   ]
  },
  {
   "cell_type": "markdown",
   "metadata": {},
   "source": [
    "###### Write a program in Python to print tilted line of length entered by user:\n",
    "For len=3. Output should look like:\n",
    "\n",
    "    \\\n",
    "     \\\n",
    "      \\"
   ]
  },
  {
   "cell_type": "code",
   "execution_count": 6,
   "metadata": {
    "collapsed": false
   },
   "outputs": [
    {
     "name": "stdout",
     "output_type": "stream",
     "text": [
      "Enter length of line 4\n",
      "\\\n",
      " \\\n",
      "  \\\n",
      "   \\\n"
     ]
    }
   ],
   "source": [
    "n=int(input('Enter length of line '))\n",
    "for i in range(n):\n",
    "    for j in range(i+1):\n",
    "        if i==j:\n",
    "            print('\\\\',end='')\n",
    "        else:\n",
    "            print(' ',end='')\n",
    "    print()"
   ]
  },
  {
   "cell_type": "markdown",
   "metadata": {},
   "source": [
    "###### Write a program in Python to print following pattern using loop.\n",
    "             *\n",
    "           * *\n",
    "         * * *\n",
    "       * * * *\n",
    "     * * * * *"
   ]
  },
  {
   "cell_type": "code",
   "execution_count": null,
   "metadata": {
    "collapsed": true
   },
   "outputs": [],
   "source": [
    "for i in range(1,6):\n",
    "    for j in range(1,6):\n",
    "        if i+j>=6:\n",
    "            print('*',end=' ')\n",
    "        else:\n",
    "            print(' ',end=' ')\n",
    "    print()"
   ]
  },
  {
   "cell_type": "markdown",
   "metadata": {},
   "source": [
    "###### Write a program in Python to print following pattern using loop:\n",
    "    * * * * *\n",
    "    * * * *\n",
    "    * * *    \n",
    "    * *\n",
    "    * "
   ]
  },
  {
   "cell_type": "code",
   "execution_count": null,
   "metadata": {
    "collapsed": true
   },
   "outputs": [],
   "source": [
    "for i in range(1,6):\n",
    "    for j in range(1,6):\n",
    "        if i+j<=6:\n",
    "            print('*',end=' ')\n",
    "        else:\n",
    "            print(' ',end=' ')\n",
    "    print()"
   ]
  },
  {
   "cell_type": "markdown",
   "metadata": {},
   "source": [
    "###### Write a program in Python to draw a pencil using loop.\n",
    "       * \n",
    "      * * \n",
    "     * * * \n",
    "    | | | |\n",
    "    | | | |\n",
    "    | | | |\n",
    "    | | | |\n",
    "    | | | |\n",
    "    | | | |"
   ]
  },
  {
   "cell_type": "code",
   "execution_count": null,
   "metadata": {
    "collapsed": true
   },
   "outputs": [],
   "source": [
    "for i in range(1,10):\n",
    "    for j in range(1,5):\n",
    "        if i+j>=5:\n",
    "            if(i<4):\n",
    "                print('*',end=' ')\n",
    "            else:\n",
    "                print('|',end=' ')\n",
    "        else:\n",
    "            print('',end=' ')\n",
    "    print()"
   ]
  },
  {
   "cell_type": "markdown",
   "metadata": {},
   "source": [
    "###### Write a program in Python to print XYZ pattern using loop."
   ]
  },
  {
   "cell_type": "code",
   "execution_count": null,
   "metadata": {
    "collapsed": true
   },
   "outputs": [],
   "source": [
    "for i in range(1,10):\n",
    "    for j in range(1,10):\n",
    "        if i==j or i+j==10 :\n",
    "            print('*',end='')\n",
    "        else:\n",
    "            print(' ',end='')\n",
    "    for j in range(1,10):\n",
    "        if (i==j and i<5) or i+j==10 :\n",
    "            print('*',end='')\n",
    "        else:\n",
    "            print(' ',end='')     \n",
    "    for j in range(1,10):\n",
    "        if ((i==1 or i==9) and j<=5) or (i+j==10 and (i!=1 or i==9)):\n",
    "            print('*',end=' ')\n",
    "        else:\n",
    "            print(' ',end='')\n",
    "    print(' ')"
   ]
  },
  {
   "cell_type": "markdown",
   "metadata": {},
   "source": [
    "###### Write a program to display the first n Fibonacci numbers. Value of n must be taken from the user using function"
   ]
  },
  {
   "cell_type": "code",
   "execution_count": 8,
   "metadata": {
    "collapsed": false
   },
   "outputs": [
    {
     "name": "stdout",
     "output_type": "stream",
     "text": [
      "Input an integer value:4\n",
      "0\n",
      "1\n",
      "1\n",
      "2\n"
     ]
    }
   ],
   "source": [
    "def fib(n):\n",
    "    a=0\n",
    "    b=1\n",
    "    if n==1:\n",
    "        print(a)\n",
    "    elif n==2:\n",
    "        print(b)\n",
    "    else:\n",
    "        print(a)\n",
    "        print(b)\n",
    "        for i in range(3,n+1):\n",
    "            c=a+b\n",
    "            print(c)\n",
    "            a=b\n",
    "            b=c\n",
    "        \n",
    "n=int(input('Input an integer value:'))\n",
    "fib(n)"
   ]
  },
  {
   "cell_type": "markdown",
   "metadata": {},
   "source": [
    "###### Write a program to display the nth Fibonacci number. Value of n must be taken from the user using recursive function. For example, if n=4, function should display 2."
   ]
  },
  {
   "cell_type": "code",
   "execution_count": 9,
   "metadata": {
    "collapsed": false
   },
   "outputs": [
    {
     "name": "stdout",
     "output_type": "stream",
     "text": [
      "Enter the Fibonnaci term you want to print:4\n",
      "2\n"
     ]
    }
   ],
   "source": [
    "def fib(n):\n",
    "    if n==1:\n",
    "        return 0\n",
    "    if n==2:\n",
    "        return 1\n",
    "    return fib(n-1)+fib(n-2)\n",
    "n=int(input('Enter the Fibonnaci term you want to print:'))\n",
    "print(fib(n))"
   ]
  },
  {
   "cell_type": "markdown",
   "metadata": {},
   "source": [
    "###### Write a program to display the first n Fibonacci numbers. Value of n must be taken from the user using a recursive function generating the Fibonacci number."
   ]
  },
  {
   "cell_type": "code",
   "execution_count": 10,
   "metadata": {
    "collapsed": false
   },
   "outputs": [
    {
     "name": "stdout",
     "output_type": "stream",
     "text": [
      "Enter the number of Fibonnaci terms you want to print:5\n",
      "0\n",
      "1\n",
      "1\n",
      "2\n",
      "3\n"
     ]
    }
   ],
   "source": [
    "def fib(n):\n",
    "    if n==1:\n",
    "        return 0\n",
    "    if n==2:\n",
    "        return 1\n",
    "    return fib(n-1)+fib(n-2)\n",
    "n=int(input('Enter the number of Fibonnaci terms you want to print:'))\n",
    "for i in range(1,n+1):\n",
    "    print(fib(i))"
   ]
  },
  {
   "cell_type": "markdown",
   "metadata": {},
   "source": [
    "###### Write two python function to Convert octal Number to decimal without using inbuilt functions."
   ]
  },
  {
   "cell_type": "code",
   "execution_count": 11,
   "metadata": {
    "collapsed": false
   },
   "outputs": [
    {
     "name": "stdout",
     "output_type": "stream",
     "text": [
      "Enter octal number: 70\n",
      "56\n"
     ]
    }
   ],
   "source": [
    "def oct2dec(n):\n",
    "    decimalNumber = 0\n",
    "    i = 0\n",
    "    while(n != 0):\n",
    "        decimalNumber += (n%10) * pow(8,i)\n",
    "        i=i+1\n",
    "        n//=10\n",
    "    i = 1\n",
    "    return decimalNumber\n",
    "\n",
    "n=int(input(\"Enter octal number: \"))\n",
    "print(oct2dec(n))"
   ]
  },
  {
   "cell_type": "markdown",
   "metadata": {},
   "source": [
    "###### Write a program in Python to check whether two given strings are an anagram. \n",
    "An anagram of a string is another string that contains same characters, only the order of characters can be different. For example, “abcd” and “dabc” are anagram of each other."
   ]
  },
  {
   "cell_type": "code",
   "execution_count": 13,
   "metadata": {
    "collapsed": false
   },
   "outputs": [
    {
     "name": "stdout",
     "output_type": "stream",
     "text": [
      "Enter first string: abcd\n",
      "Enter second string: abcf\n",
      "abcd and abcf are not anagram\n"
     ]
    }
   ],
   "source": [
    "s1=input('Enter first string: ')\n",
    "s2=input('Enter second string: ')\n",
    "list1 = list(s1)\n",
    "list1.sort()\n",
    "list2 = list(s2)\n",
    "list2.sort()\n",
    "if (list1 == list2):\n",
    "    print(s1,'and',s2,'are anagram')\n",
    "else:\n",
    "    print(s1,'and',s2,'are not anagram')\n"
   ]
  },
  {
   "cell_type": "markdown",
   "metadata": {},
   "source": [
    "######  Write a python program that calculates the bill  for a customer purchase in a store. in this store the item_id range from 1 to 100. These items are organised in a way that the items with item_id less than 50 are on sale (10 %) and item_id range from 50-80 are on sale (25 %) and the rest items are on the sale of 40 %.\n",
    "Your program has a function call (saleprice) that receives the itme_id, and its price, and  it returns the current price after sale for current item, and it prints the number of items purchased so far.\n",
    "In your main, you should read item id and call saleprice function for each item. your program should continue to read item_id till the end of purchase. entering 0 will indicate the end of purchase. At the end your program should print the total amount of bill. "
   ]
  },
  {
   "cell_type": "code",
   "execution_count": 4,
   "metadata": {
    "collapsed": false
   },
   "outputs": [
    {
     "name": "stdout",
     "output_type": "stream",
     "text": [
      "Enter items purchased- 0 to end:\n",
      "Item id:20\n",
      "Enter price:100\n",
      "Item id:-0 to end60\n",
      "Enter price:200\n",
      "Item id:-0 to end90\n",
      "Enter price:100\n",
      "Item id:-0 to end0\n",
      "Total bill= 300.0\n"
     ]
    }
   ],
   "source": [
    "def saleprice(id, price):\n",
    "    if 1<=id<=50:\n",
    "        cur_price=price*0.90\n",
    "    elif 50<=id<=80:\n",
    "        cur_price=price*0.75\n",
    "    else:\n",
    "        cur_price=price*0.60\n",
    "    return cur_price\n",
    "\n",
    "print('Enter items purchased- 0 to end:')\n",
    "total=0\n",
    "id1=int(input('Item id:'))\n",
    "while id1!=0:\n",
    "    price1=int(input('Enter price:'))\n",
    "    total+=saleprice(id1,price1)\n",
    "    id1=int(input('Item id:-0 to end'))\n",
    "print('Total bill=', total)\n"
   ]
  },
  {
   "cell_type": "markdown",
   "metadata": {},
   "source": [
    "###### We add a Leap Day on February 29, almost every four years. The leap day is an extra, or intercalary day and we add it to the shortest month of the year, February. \n",
    "In the Gregorian calendar three criteria must be taken into account to identify leap years:\n",
    "The year can be evenly divided by 4, is a leap year, unless:\n",
    "The year can be evenly divided by 100, it is NOT a leap year, unless:\n",
    "The year is also evenly divisible by 400. Then it is a leap year.\n",
    "This means that in the Gregorian calendar, the years 2000 and 2400 are leap years, while 1800, 1900, 2100, 2200, 2300 and 2500 are NOT leap years.\n",
    "Sample Input: 1990\n",
    "Sample Output:False\n",
    "Sample Input:1600\n",
    "Sample Output:True"
   ]
  },
  {
   "cell_type": "code",
   "execution_count": 18,
   "metadata": {
    "collapsed": false
   },
   "outputs": [
    {
     "name": "stdout",
     "output_type": "stream",
     "text": [
      "Enter year as 4-digit number:2000\n",
      "True\n"
     ]
    }
   ],
   "source": [
    "year=int(input('Enter year as 4-digit number:'))\n",
    "if year%100==0:\n",
    "    if year%400==0:\n",
    "        print(True)\n",
    "    else:\n",
    "        print(False)\n",
    "else:\n",
    "    if year%4==0:\n",
    "        print(True)\n",
    "    else:\n",
    "        print(False)"
   ]
  },
  {
   "cell_type": "markdown",
   "metadata": {},
   "source": [
    "###### Write a program to design the pow function using recursion."
   ]
  },
  {
   "cell_type": "code",
   "execution_count": 14,
   "metadata": {
    "collapsed": false
   },
   "outputs": [
    {
     "name": "stdout",
     "output_type": "stream",
     "text": [
      "32\n",
      "Input number:3\n",
      "Input power:4\n",
      "81\n"
     ]
    }
   ],
   "source": [
    "def pow(a,b):\n",
    "    if(b==1):\n",
    "        return a\n",
    "    return a*pow(a,b-1)\n",
    "print(pow(2,5))\n",
    "n=int(input('Input number:'))\n",
    "p=int(input('Input power:'))\n",
    "print(pow(n,p))"
   ]
  },
  {
   "cell_type": "markdown",
   "metadata": {},
   "source": [
    "###### 2’s complement of a number is obtained by scanning it from right to left and complementing all the bits after the first appearance of a 1. Thus 2’s complement of 11100 is 00100.  Write a Python program to find the 2’s complement of a binary."
   ]
  },
  {
   "cell_type": "code",
   "execution_count": 15,
   "metadata": {
    "collapsed": false
   },
   "outputs": [
    {
     "name": "stdout",
     "output_type": "stream",
     "text": [
      "0101100"
     ]
    }
   ],
   "source": [
    "def comp(n,flag):\n",
    "    if(n==0):\n",
    "        return\n",
    "    i=n%10\n",
    "    if(flag==0):\n",
    "        if(i==1):\n",
    "            flag=1\n",
    "        out=i\n",
    "    else:\n",
    "        if(i==0):\n",
    "            out = 1\n",
    "        else:\n",
    "            out = 0\n",
    "    comp(n//10,flag)\n",
    "#   print(n)\n",
    "    print(out,end=\"\")\n",
    "flag=0    \n",
    "comp(1010100,flag)"
   ]
  },
  {
   "cell_type": "markdown",
   "metadata": {},
   "source": [
    "###### Write a program to calculate the sum of digits using recursion."
   ]
  },
  {
   "cell_type": "code",
   "execution_count": 16,
   "metadata": {
    "collapsed": false
   },
   "outputs": [
    {
     "name": "stdout",
     "output_type": "stream",
     "text": [
      "Enter an integer number:1234\n",
      "10\n"
     ]
    }
   ],
   "source": [
    "def digit_Sum(number):\n",
    "    if(number==0):\n",
    "        return 0\n",
    "    s = digit_Sum(number//10)\n",
    "    return number%10 + s\n",
    "n=int(input('Enter an integer number:'))\n",
    "print(digit_Sum(n))"
   ]
  },
  {
   "cell_type": "markdown",
   "metadata": {},
   "source": [
    "###### Write a program to calculate the hexa-decimal of decimal number using recursion."
   ]
  },
  {
   "cell_type": "code",
   "execution_count": null,
   "metadata": {
    "collapsed": true
   },
   "outputs": [],
   "source": [
    "def hexa(number):\n",
    "    if(number==0):\n",
    "        return 0\n",
    "    hexa(number//16)\n",
    "    print(number%16,end=\"\")\n",
    "#Calling function\n",
    "print(\"Hexa Decimal\")\n",
    "hexa(18)\n",
    "print(\"\\nHexa Decimal\")\n",
    "hexa(65)"
   ]
  }
 ],
 "metadata": {
  "colab": {
   "default_view": {},
   "name": "Lab1 Notebook.ipynb",
   "provenance": [],
   "version": "0.3.2",
   "views": {}
  },
  "kernelspec": {
   "display_name": "Python 3",
   "language": "python",
   "name": "python3"
  },
  "language_info": {
   "codemirror_mode": {
    "name": "ipython",
    "version": 3
   },
   "file_extension": ".py",
   "mimetype": "text/x-python",
   "name": "python",
   "nbconvert_exporter": "python",
   "pygments_lexer": "ipython3",
   "version": "3.6.0"
  }
 },
 "nbformat": 4,
 "nbformat_minor": 1
}
