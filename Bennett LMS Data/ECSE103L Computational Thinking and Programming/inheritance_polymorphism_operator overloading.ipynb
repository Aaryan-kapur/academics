{
  "nbformat": 4,
  "nbformat_minor": 0,
  "metadata": {
    "colab": {
      "name": "Untitled3.ipynb",
      "version": "0.3.2",
      "provenance": [],
      "collapsed_sections": []
    },
    "kernelspec": {
      "name": "python3",
      "display_name": "Python 3"
    }
  },
  "cells": [
    {
      "metadata": {
        "id": "xOZLIk9iDgNT",
        "colab_type": "code",
        "outputId": "71c9c00b-baf0-4678-f897-1b364e04e4be",
        "colab": {
          "base_uri": "https://localhost:8080/",
          "height": 54
        }
      },
      "cell_type": "code",
      "source": [
        "class A():\n",
        " \n",
        "    def __init__(self):\n",
        "        self.__x = 1\n",
        " \n",
        "    def methodA(self):\n",
        "        print(\"m1 from A\")\n",
        " \n",
        " \n",
        "class B(A):\n",
        " \n",
        "    def __init__(self):\n",
        "        self.__y = 1\n",
        " \n",
        "    def methodB(self):\n",
        "        print(\"m1 from B\")\n",
        " \n",
        "c = B()\n",
        "c.methodA()\n",
        "c.methodB()"
      ],
      "execution_count": 0,
      "outputs": [
        {
          "output_type": "stream",
          "text": [
            "m1 from A\n",
            "m1 from B\n"
          ],
          "name": "stdout"
        }
      ]
    },
    {
      "metadata": {
        "id": "zEyp3VdQKr28",
        "colab_type": "code",
        "outputId": "4630809c-0f81-4f54-8c80-4fb07c91fdf0",
        "colab": {
          "base_uri": "https://localhost:8080/",
          "height": 35
        }
      },
      "cell_type": "code",
      "source": [
        "class A():\n",
        " \n",
        "    def __init__(self):\n",
        "        self.__x = 1\n",
        " \n",
        "    def method(self):\n",
        "        print(\"m1 from A\")\n",
        " \n",
        " \n",
        "class B(A):\n",
        " \n",
        "    def __init__(self):\n",
        "        self.__y = 1\n",
        " \n",
        "    def method(self):\n",
        "        print(\"m1 from B\")\n",
        " \n",
        "c = B()\n",
        "c.method()\n"
      ],
      "execution_count": 0,
      "outputs": [
        {
          "output_type": "stream",
          "text": [
            "m1 from B\n"
          ],
          "name": "stdout"
        }
      ]
    },
    {
      "metadata": {
        "id": "6rJY83m15Q-l",
        "colab_type": "code",
        "outputId": "1f575882-6208-469c-948e-e19de58aa2fe",
        "colab": {
          "base_uri": "https://localhost:8080/",
          "height": 145
        }
      },
      "cell_type": "code",
      "source": [
        "class Car:\n",
        "    def __init__(self, name):    \n",
        "        self.name = name\n",
        " \n",
        "    def drive(self):             \n",
        "        raise NotImplementedError(\"Subclass must implement abstract method\")\n",
        " \n",
        "    def stop(self):             \n",
        "        raise NotImplementedError(\"Subclass must implement abstract method\")\n",
        " \n",
        "class Sportscar(Car):\n",
        "    def drive(self):\n",
        "        return 'Sportscar driving!'\n",
        " \n",
        "    def stop(self):\n",
        "        return 'Sportscar braking!'\n",
        " \n",
        "class Truck(Car):\n",
        "    def drive(self):\n",
        "        return 'Truck driving slowly because heavily loaded.'\n",
        " \n",
        "    def stop(self):\n",
        "        return 'Truck braking!'\n",
        " \n",
        " \n",
        "cars = [Truck('Bananatruck'),\n",
        "        Truck('Orangetruck'),\n",
        "        Sportscar('Z3')]\n",
        " \n",
        "for car in cars:\n",
        "    print car.name + ': ' + car.drive()"
      ],
      "execution_count": 0,
      "outputs": [
        {
          "output_type": "stream",
          "text": [
            "ram\n",
            "26\n",
            "5.6\n",
            "10\n",
            "ram    26\n",
            "123    123.0\n",
            "3    5.6\n"
          ],
          "name": "stdout"
        }
      ]
    },
    {
      "metadata": {
        "id": "Fb3WjkL3AA2I",
        "colab_type": "code",
        "outputId": "adf7f1a5-bfb2-4243-b993-5ba7fd09f946",
        "colab": {
          "base_uri": "https://localhost:8080/",
          "height": 126
        }
      },
      "cell_type": "code",
      "source": [
        "class player:\n",
        "    def __init__(self, name, age):\n",
        "        self.name=name\n",
        "        self.age=age\n",
        "    def tostring(self):\n",
        "        print(\"Player\")\n",
        "        print(self.name, \"  \", self.age)\n",
        "        \n",
        "class batsman(player):\n",
        "    def __init__(self,name,age,run,ball,rrbat):\n",
        "        player.__init__(self,name,age)\n",
        "        self.run=run\n",
        "        self.ball=ball\n",
        "        self.rrbat=rrbat\n",
        "    def tostring(self):\n",
        "        print(\"Batsman\")\n",
        "        print(self.run, \"  \", self.rrbat)\n",
        "class bowler(player):\n",
        "    def __init__(self,name,age,over,wicket,rrball,run):\n",
        "        player.__init__(self,name,age)\n",
        "        self.over=over\n",
        "        self.wicket=wicket\n",
        "        self.rrball=rrball\n",
        "        self.run=run\n",
        "    def tostring(self):\n",
        "        print(\"bowler\")\n",
        "        print(self.wicket, \"  \", self.rrball)\n",
        "class allrounder(batsman,bowler):\n",
        "      def __init__(self,name,age,run,ball,rrbat,over,wicket,rrball):\n",
        "          batsman.__init__(self,name,age,run,ball,rrbat)\n",
        "          bowler.__init__(self,name,age,over,wicket,rrball,run)\n",
        "      \n",
        "aa=allrounder('ram',26,123,100,123.00,10,3,5.6)\n",
        "print(aa.name)\n",
        "print(aa.age)\n",
        "print(aa.rrbat)\n",
        "print(aa.over)\n",
        "aa.tostring()"
      ],
      "execution_count": 0,
      "outputs": [
        {
          "output_type": "stream",
          "text": [
            "ram\n",
            "26\n",
            "5.6\n",
            "10\n",
            "Batsman\n",
            "123    123.0\n"
          ],
          "name": "stdout"
        }
      ]
    },
    {
      "metadata": {
        "id": "saM4s4y2LI0F",
        "colab_type": "code",
        "colab": {}
      },
      "cell_type": "code",
      "source": [
        "class player:\n",
        "    def __init__(self, name, age):\n",
        "        self.name=name\n",
        "        self.age=age\n",
        "    def tostring(self):\n",
        "        print(self.name, \"  \", self.age)\n",
        "        \n",
        "class batsman(player):\n",
        "    def __init__(self,name,age,run,ball,rrbat):\n",
        "        player.__init__(self,name,age)\n",
        "        self.run=run\n",
        "        self.ball=ball\n",
        "        self.rrbat=rrbat\n",
        "    def tostring(self):\n",
        "        print(self.run, \"  \", self.rrbat)\n",
        "class bowler(player):\n",
        "    def __init__(self,name,age,over,wicket,rrball,run):\n",
        "        player.__init__(self,name,age)\n",
        "        self.over=over\n",
        "        self.wicket=wicket\n",
        "        self.rrball=rrball\n",
        "        self.run=run\n",
        "    def tostring(self):\n",
        "        print(self.wicket, \"  \", self.rrball)\n",
        "class allrounder(batsman,bowler):\n",
        "      def __init__(self,name,age,run,ball,rrbat,over,wicket,rrball):\n",
        "          batsman.__init__(self,name,age,run,ball,rrbat)\n",
        "          bowler.__init__(self,name,age,over,wicket,rrball,run)\n",
        "      def tostring(self):\n",
        "          player.tostring(self)\n",
        "          batsman.tostring(self)\n",
        "          bowler.tostring(self)\n",
        "\n",
        "aa=allrounder('ram',26,123,100,123.00,10,3,5.6)\n",
        "print(aa.name)\n",
        "print(aa.age)\n",
        "print(aa.rrball)\n",
        "print(aa.over)\n",
        "aa.tostring()"
      ],
      "execution_count": 0,
      "outputs": []
    },
    {
      "metadata": {
        "id": "OEQ9nAGWLyJ7",
        "colab_type": "code",
        "outputId": "1124c76a-3197-462c-ca6d-3ba34d20de0d",
        "colab": {
          "base_uri": "https://localhost:8080/",
          "height": 207
        }
      },
      "cell_type": "code",
      "source": [
        "class Point:\n",
        "    def __init__(self, x = 0, y = 0):\n",
        "        self.x = x\n",
        "        self.y = y\n",
        "p1=Point(1,2)\n",
        "p2=Point(1,2)\n",
        "print(p1+p2)"
      ],
      "execution_count": 0,
      "outputs": [
        {
          "output_type": "error",
          "ename": "TypeError",
          "evalue": "ignored",
          "traceback": [
            "\u001b[0;31m---------------------------------------------------------------------------\u001b[0m",
            "\u001b[0;31mTypeError\u001b[0m                                 Traceback (most recent call last)",
            "\u001b[0;32m<ipython-input-14-212ef0af150d>\u001b[0m in \u001b[0;36m<module>\u001b[0;34m()\u001b[0m\n\u001b[1;32m      5\u001b[0m \u001b[0mp1\u001b[0m\u001b[0;34m=\u001b[0m\u001b[0mPoint\u001b[0m\u001b[0;34m(\u001b[0m\u001b[0;36m1\u001b[0m\u001b[0;34m,\u001b[0m\u001b[0;36m2\u001b[0m\u001b[0;34m)\u001b[0m\u001b[0;34m\u001b[0m\u001b[0m\n\u001b[1;32m      6\u001b[0m \u001b[0mp2\u001b[0m\u001b[0;34m=\u001b[0m\u001b[0mPoint\u001b[0m\u001b[0;34m(\u001b[0m\u001b[0;36m1\u001b[0m\u001b[0;34m,\u001b[0m\u001b[0;36m2\u001b[0m\u001b[0;34m)\u001b[0m\u001b[0;34m\u001b[0m\u001b[0m\n\u001b[0;32m----> 7\u001b[0;31m \u001b[0mprint\u001b[0m\u001b[0;34m(\u001b[0m\u001b[0mp1\u001b[0m\u001b[0;34m+\u001b[0m\u001b[0mp2\u001b[0m\u001b[0;34m)\u001b[0m\u001b[0;34m\u001b[0m\u001b[0m\n\u001b[0m",
            "\u001b[0;31mTypeError\u001b[0m: unsupported operand type(s) for +: 'Point' and 'Point'"
          ]
        }
      ]
    },
    {
      "metadata": {
        "id": "hHUqSCFcMPFw",
        "colab_type": "code",
        "outputId": "01769ab9-89fc-4447-d994-355bc8bb87f2",
        "colab": {
          "base_uri": "https://localhost:8080/",
          "height": 35
        }
      },
      "cell_type": "code",
      "source": [
        "class Point:\n",
        "    def __init__(self, x = 0, y = 0):\n",
        "        self.x = x\n",
        "        self.y = y\n",
        "        \n",
        "    def __add__(self,other):\n",
        "        x = self.x + other.x\n",
        "        y = self.y + other.y\n",
        "        return Point(x,y)\n",
        "\n",
        "p1=Point(1,2)\n",
        "p2=Point(1,2)\n",
        "print(p1 + p2)"
      ],
      "execution_count": 0,
      "outputs": [
        {
          "output_type": "stream",
          "text": [
            "<__main__.Point object at 0x7f04fdfcb5f8>\n"
          ],
          "name": "stdout"
        }
      ]
    },
    {
      "metadata": {
        "id": "9NfLKXzENDHQ",
        "colab_type": "code",
        "outputId": "bccd658a-0450-4bf4-d7c4-eb903b33465f",
        "colab": {
          "base_uri": "https://localhost:8080/",
          "height": 35
        }
      },
      "cell_type": "code",
      "source": [
        "class Point:\n",
        "    def __init__(self, x = 0, y = 0):\n",
        "        self.x = x\n",
        "        self.y = y\n",
        "    \n",
        "    def __str__(self):\n",
        "        return \"({0},{1})\".format(self.x,self.y)\n",
        "        \n",
        "    def __add__(self,other):\n",
        "        x = self.x + other.x\n",
        "        y = self.y + other.y\n",
        "        return Point(x,y)\n",
        "\n",
        "p1=Point(1,2)\n",
        "p2=Point(1,2)\n",
        "print(p1 + p2)"
      ],
      "execution_count": 0,
      "outputs": [
        {
          "output_type": "stream",
          "text": [
            "(2,4)\n"
          ],
          "name": "stdout"
        }
      ]
    },
    {
      "metadata": {
        "id": "5eCIp9OWOMCA",
        "colab_type": "code",
        "outputId": "cb78d7c3-4b99-4d9e-ff3d-089335afd24b",
        "colab": {
          "base_uri": "https://localhost:8080/",
          "height": 108
        }
      },
      "cell_type": "code",
      "source": [
        "class Point:\n",
        "    def __init__(self, x = 0, y = 0):\n",
        "        self.x = x\n",
        "        self.y = y\n",
        "    \n",
        "    def __str__(self):\n",
        "        return \"({0},{1})\".format(self.x,self.y)\n",
        "    \n",
        "    def __lt__(self,other):\n",
        "        self_mag = (self.x ** 2) + (self.y ** 2)\n",
        "        other_mag = (other.x ** 2) + (other.y ** 2)\n",
        "        return self_mag < other_mag\n",
        "   \n",
        "p1=Point(1,2)\n",
        "p2=Point(1,2)\n",
        "print(p1)\n",
        "print(p2)\n",
        "print(p1 < p2)\n",
        "print(p1 > p2)\n",
        "print(p1 == p2)"
      ],
      "execution_count": 0,
      "outputs": [
        {
          "output_type": "stream",
          "text": [
            "(1,2)\n",
            "(1,2)\n",
            "False\n",
            "False\n",
            "True\n"
          ],
          "name": "stdout"
        }
      ]
    },
    {
      "metadata": {
        "id": "zKkzZo5NPvFy",
        "colab_type": "code",
        "outputId": "fd0709e7-c14e-4fde-ed4a-a08adb457821",
        "colab": {
          "base_uri": "https://localhost:8080/",
          "height": 108
        }
      },
      "cell_type": "code",
      "source": [
        "class Point:\n",
        "    def __init__(self, x = 0, y = 0):\n",
        "        self.x = x\n",
        "        self.y = y\n",
        "    \n",
        "    def __str__(self):\n",
        "        return \"({0},{1})\".format(self.x,self.y)\n",
        "    \n",
        "    def __lt__(self,other):\n",
        "        self_mag = (self.x ** 2) + (self.y ** 2)\n",
        "        other_mag = (other.x ** 2) + (other.y ** 2)\n",
        "        return self_mag < other_mag\n",
        "    def __gt__(self,other):\n",
        "        self_mag = (self.x ** 2) + (self.y ** 2)\n",
        "        other_mag = (other.x ** 2) + (other.y ** 2)\n",
        "        return self_mag > other_mag\n",
        "    \n",
        "p1=Point(1,2)\n",
        "p2=Point(1,2)\n",
        "print(p1)\n",
        "print(p2)\n",
        "print(p1 < p2)\n",
        "print(p1 > p2)\n",
        "print(p1 == p2)"
      ],
      "execution_count": 0,
      "outputs": [
        {
          "output_type": "stream",
          "text": [
            "(1,2)\n",
            "(1,2)\n",
            "False\n",
            "False\n",
            "False\n"
          ],
          "name": "stdout"
        }
      ]
    },
    {
      "metadata": {
        "id": "xPFUyScvPzcF",
        "colab_type": "code",
        "colab": {}
      },
      "cell_type": "code",
      "source": [
        "class Point:\n",
        "    def __init__(self, x = 0, y = 0):\n",
        "        self.x = x\n",
        "        self.y = y\n",
        "    \n",
        "    def __str__(self):\n",
        "        return \"({0},{1})\".format(self.x,self.y)\n",
        "    \n",
        "    def __lt__(self,other):\n",
        "        self_mag = (self.x ** 2) + (self.y ** 2)\n",
        "        other_mag = (other.x ** 2) + (other.y ** 2)\n",
        "        return self_mag < other_mag\n",
        "    def __gt__(self,other):\n",
        "        self_mag = (self.x ** 2) + (self.y ** 2)\n",
        "        other_mag = (other.x ** 2) + (other.y ** 2)\n",
        "        return self_mag > other_mag\n",
        "    def __eq__(self,other):\n",
        "        return self.x == other.x and self.y == other.y \n",
        "      \n",
        "p1=Point(1,2)\n",
        "p2=Point(1,2)\n",
        "print(p1)\n",
        "print(p2)\n",
        "print(p1 < p2)\n",
        "print(p1 > p2)\n",
        "print(p1 == p2)"
      ],
      "execution_count": 0,
      "outputs": []
    },
    {
      "metadata": {
        "id": "kOR6jdTF_7F0",
        "colab_type": "text"
      },
      "cell_type": "markdown",
      "source": [
        ""
      ]
    },
    {
      "metadata": {
        "id": "86sCBhVQ8khv",
        "colab_type": "code",
        "outputId": "ce896bea-cf39-418f-db10-3b903f8c6936",
        "colab": {
          "base_uri": "https://localhost:8080/",
          "height": 108
        }
      },
      "cell_type": "code",
      "source": [
        "class student:\n",
        "    count = 0\n",
        "    def __init__(self,name,add,mob,course):\n",
        "        self.name=name\n",
        "        self.add=add\n",
        "        self.mob=mob\n",
        "        self.course=course\n",
        "        student.count +=1\n",
        "    def updatemob(self,mob):\n",
        "        self.mob=mob\n",
        "    def getmob(self):\n",
        "        return self.mob\n",
        "    def totalstudent(self):\n",
        "        return student.count\n",
        "      \n",
        "s1=student('vvv','abc','456878979','Btech')\n",
        "print(s1.totalstudent())\n",
        "s2=student('aaa','abcd','456878979','Btech')\n",
        "print(s1.totalstudent())\n",
        "s3=student('bbb','abcf','456878979','Btech')\n",
        "print(s1.totalstudent())\n",
        "print(s2.totalstudent())\n",
        "print(s3.totalstudent())\n"
      ],
      "execution_count": 0,
      "outputs": [
        {
          "output_type": "stream",
          "text": [
            "1\n",
            "2\n",
            "3\n",
            "3\n",
            "3\n"
          ],
          "name": "stdout"
        }
      ]
    },
    {
      "metadata": {
        "id": "uwBL3_Y5PY4u",
        "colab_type": "code",
        "outputId": "e9fc3872-7d2c-423b-8ca8-9a521e19a507",
        "colab": {
          "base_uri": "https://localhost:8080/",
          "height": 52
        }
      },
      "cell_type": "code",
      "source": [
        "class Triangle:\n",
        "  def __init__(self,s1,s2,s3):\n",
        "    self.s1=s1\n",
        "    self.s2=s2\n",
        "    self.s3=s3\n",
        "  def isRT(self):\n",
        "    if(self.s1**2 == self.s2**2 + self.s3**2):\n",
        "      return True\n",
        "    elif(self.s2**2 == self.s1**2 + self.s3**2):\n",
        "      return True\n",
        "    elif(self.s3**2 == self.s2**2 + self.s1**2):\n",
        "      return True\n",
        "    else:\n",
        "      return False\n",
        "  def isET(self):\n",
        "    if (self.s1 == self.s2 and self.s1==self.s3):\n",
        "      return True\n",
        "    else:\n",
        "      return False\n",
        "  def isBT(self):\n",
        "    if(self.s1==self.s2 or self.s2 == self.s3 or self.s1 == self.s3):\n",
        "      return True\n",
        "    else:\n",
        "      return False\n",
        "  def Area(self):\n",
        "    s= (self.s1+self.s2+self.s3)/2\n",
        "\n",
        "    #area= math.sqrt(s*(s-self.s1)*(s-self.s2)*(s-self.s3))\n",
        "    area= (s*(s-self.s1)*(s-self.s2)*(s-self.s3))**(0.5)\n",
        "    return area\n",
        "  def __add__(self,other):\n",
        "    #return self.Area()+other.Area()\n",
        "    #return \"hello\"\n",
        "    return (self.Area()+other.Area())*2\n",
        "  \n",
        "  def __sub__(self,other):\n",
        "    return self.Area()-other.Area()\n",
        "  def __mul__(self,other):\n",
        "    return self.Area()**other.Area()\n",
        "  def __str__(self):\n",
        "    return str(self.s1)+\",\"+str(self.s2)+\",\"+str(self.s3)\n",
        "   # return str(self.s1+self.s2+self.s3)\n",
        "  \n",
        "t1=Triangle(3,4,5)\n",
        "t2=Triangle(2,2,2)\n",
        "t3=Triangle(4,4,6)\n",
        "\n",
        "#print(t1.isRT())\n",
        "#print(t2.isRT())\n",
        "#print(t2.isET())\n",
        "#print(t1.Area())\n",
        "#print(t2.Area())\n",
        "print(t1 + t2)\n",
        "#print(t1-t2)\n",
        "print(t3)\n",
        "#print(t1,p1)"
      ],
      "execution_count": 0,
      "outputs": [
        {
          "output_type": "stream",
          "text": [
            "15.464101615137753\n",
            "4,4,6\n"
          ],
          "name": "stdout"
        }
      ]
    },
    {
      "metadata": {
        "id": "JRT77tkzrWpc",
        "colab_type": "code",
        "colab": {}
      },
      "cell_type": "code",
      "source": [
        ""
      ],
      "execution_count": 0,
      "outputs": []
    }
  ]
}