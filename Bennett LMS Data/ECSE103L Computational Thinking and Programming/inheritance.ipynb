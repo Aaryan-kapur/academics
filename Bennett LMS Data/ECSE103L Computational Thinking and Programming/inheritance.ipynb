{
  "nbformat": 4,
  "nbformat_minor": 0,
  "metadata": {
    "colab": {
      "name": "Untitled3.ipynb",
      "version": "0.3.2",
      "provenance": [],
      "collapsed_sections": []
    },
    "kernelspec": {
      "name": "python3",
      "display_name": "Python 3"
    }
  },
  "cells": [
    {
      "metadata": {
        "id": "6rJY83m15Q-l",
        "colab_type": "code",
        "colab": {
          "base_uri": "https://localhost:8080/",
          "height": 87
        },
        "outputId": "190d6ade-b773-4768-a6a4-fcad96f42da4"
      },
      "cell_type": "code",
      "source": [
        "class player:\n",
        "    def __init__(self, name, age):\n",
        "        self.name=name\n",
        "        self.age=age\n",
        "        \n",
        "class batsman(player):\n",
        "    def __init__(self,name,age,run,ball,rrbat):\n",
        "        player.__init__(self,name,age)\n",
        "        self.run=run\n",
        "        self.ball=ball\n",
        "        self.rrbat=rrbat\n",
        "class bowler(player):\n",
        "    def __init__(self,name,age,over,wicket,rrball,run):\n",
        "        player.__init__(self,name,age)\n",
        "        self.over=over\n",
        "        self.wicket=wicket\n",
        "        self.rrball=rrball\n",
        "        self.run=run\n",
        "class allrounder(batsman,bowler):\n",
        "      def __init__(self,name,age,run,ball,rrbat,over,wicket,rrball):\n",
        "          batsman.__init__(self,name,age,run,ball,rrbat)\n",
        "          bowler.__init__(self,name,age,over,wicket,rrball,run)\n",
        "\n",
        "aa=allrounder('ram',26,123,100,123.00,10,3,5.6)\n",
        "print(aa.name)\n",
        "print(aa.age)\n",
        "print(aa.rrball)\n",
        "print(aa.over)\n",
        "    "
      ],
      "execution_count": 8,
      "outputs": [
        {
          "output_type": "stream",
          "text": [
            "ram\n",
            "26\n",
            "5.6\n",
            "10\n"
          ],
          "name": "stdout"
        }
      ]
    },
    {
      "metadata": {
        "id": "86sCBhVQ8khv",
        "colab_type": "code",
        "colab": {}
      },
      "cell_type": "code",
      "source": [
        ""
      ],
      "execution_count": 0,
      "outputs": []
    }
  ]
}