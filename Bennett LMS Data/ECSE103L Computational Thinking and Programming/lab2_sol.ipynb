{
 "cells": [
  {
   "cell_type": "markdown",
   "metadata": {},
   "source": [
    "# Student Name: \n",
    "# Enrollment Number: \n",
    "# Lab assignemnt number:"
   ]
  },
  {
   "cell_type": "markdown",
   "metadata": {},
   "source": [
    "## Lab 2 : Output Statements, Assignment Statements, Data Types"
   ]
  },
  {
   "cell_type": "markdown",
   "metadata": {},
   "source": [
    "## Compulsory Questions"
   ]
  },
  {
   "cell_type": "markdown",
   "metadata": {
    "colab_type": "text",
    "id": "CzYaWy7gcfN-"
   },
   "source": [
    "### 1 \tWrite a program in Python to store your mobile phone specification like Type (Android, Windows, Apple), Internal storage (in GB), Camera resolution (in pixel), with your name, Is_all_info_correct (true or false). "
   ]
  },
  {
   "cell_type": "code",
   "execution_count": 1,
   "metadata": {},
   "outputs": [
    {
     "name": "stdout",
     "output_type": "stream",
     "text": [
      "Diya  uses Android phone \n",
      "Phone details are:\n",
      "\n",
      "Internal Storage 32 GB\n",
      "Camera resolution 16\n",
      "\n",
      "All Details are True\n"
     ]
    }
   ],
   "source": [
    "Name='Diya'\n",
    "Type='Android'\n",
    "storage=32\n",
    "Camera_resolution=16\n",
    "is_correct=True\n",
    "\n",
    "\n",
    "print(Name,' uses',Type,'phone','\\nPhone details are:\\n')\n",
    "print('Internal Storage',storage,'GB')\n",
    "print('Camera resolution',Camera_resolution)\n",
    "\n",
    "print('\\nAll Details are',is_correct)"
   ]
  },
  {
   "cell_type": "markdown",
   "metadata": {
    "colab_type": "text",
    "id": "ck-2rEF4cfOC"
   },
   "source": [
    "### 2 Write a program in Python to get the type of each variable of problem1."
   ]
  },
  {
   "cell_type": "code",
   "execution_count": 2,
   "metadata": {
    "colab": {
     "autoexec": {
      "startup": false,
      "wait_interval": 0
     }
    },
    "colab_type": "code",
    "id": "Y0tRnGsQcfOD",
    "scrolled": false
   },
   "outputs": [
    {
     "name": "stdout",
     "output_type": "stream",
     "text": [
      "<class 'str'>\n",
      "<class 'str'>\n",
      "<class 'int'>\n",
      "<class 'int'>\n",
      "<class 'bool'>\n"
     ]
    }
   ],
   "source": [
    "print(type(Name))\n",
    "print(type(Type))\n",
    "print(type(storage))\n",
    "print(type(Camera_resolution))\n",
    "print(type(is_correct))\n"
   ]
  },
  {
   "cell_type": "markdown",
   "metadata": {},
   "source": [
    "### 3 Write a program in Python for data type conversion from: \n",
    "- int to string\n",
    "- int to float\n",
    "- string to int\n",
    "- string to float\n",
    "- float to int\n",
    "- float to string"
   ]
  },
  {
   "cell_type": "code",
   "execution_count": 64,
   "metadata": {},
   "outputs": [
    {
     "name": "stdout",
     "output_type": "stream",
     "text": [
      "10\n",
      "10.0\n",
      "20\n",
      "20.0\n",
      "23\n",
      "23.56\n"
     ]
    }
   ],
   "source": [
    "a=10\n",
    "print(str(a))\n",
    "print(float(a))\n",
    "\n",
    "b='20'\n",
    "print(int(b))\n",
    "print(float(b))\n",
    "\n",
    "c=23.56\n",
    "print(int(c))\n",
    "print(str(c))"
   ]
  },
  {
   "cell_type": "markdown",
   "metadata": {},
   "source": [
    "### 4 Write a program in Python to round off the value of a number."
   ]
  },
  {
   "cell_type": "code",
   "execution_count": 14,
   "metadata": {},
   "outputs": [
    {
     "data": {
      "text/plain": [
       "157"
      ]
     },
     "execution_count": 14,
     "metadata": {},
     "output_type": "execute_result"
    }
   ],
   "source": [
    "n=156.6\n",
    "round(n)"
   ]
  },
  {
   "cell_type": "markdown",
   "metadata": {},
   "source": [
    "### 5 Write a program in Pyhton to find the value of a number with two digits after decimal."
   ]
  },
  {
   "cell_type": "code",
   "execution_count": 23,
   "metadata": {
    "scrolled": true
   },
   "outputs": [
    {
     "name": "stdout",
     "output_type": "stream",
     "text": [
      "13.89\n"
     ]
    }
   ],
   "source": [
    "n=13.8916\n",
    "print(format(n,'0.2f'))"
   ]
  },
  {
   "cell_type": "markdown",
   "metadata": {},
   "source": [
    "### 6 Write a program in Python to place a comma on thousand places of a number."
   ]
  },
  {
   "cell_type": "code",
   "execution_count": 54,
   "metadata": {
    "scrolled": true
   },
   "outputs": [
    {
     "name": "stdout",
     "output_type": "stream",
     "text": [
      "87,495\n"
     ]
    }
   ],
   "source": [
    "n=87495\n",
    "print(format(n,','))"
   ]
  },
  {
   "cell_type": "markdown",
   "metadata": {},
   "source": [
    "### 7 Write a program in Python to right justify the value of a number in 20 chars with one digit accuracy."
   ]
  },
  {
   "cell_type": "code",
   "execution_count": 49,
   "metadata": {},
   "outputs": [
    {
     "name": "stdout",
     "output_type": "stream",
     "text": [
      "             15246.6\n",
      "                14.2\n"
     ]
    }
   ],
   "source": [
    "x=15246.59\n",
    "y=14.156\n",
    "print(format(x,'>20.1f'))\n",
    "print(format(y,'>20.1f'))"
   ]
  },
  {
   "cell_type": "markdown",
   "metadata": {},
   "source": [
    "### 8 Write a program in Python to left justify the value of a number in 20 chars with one digit accuracy."
   ]
  },
  {
   "cell_type": "code",
   "execution_count": 40,
   "metadata": {
    "scrolled": false
   },
   "outputs": [
    {
     "name": "stdout",
     "output_type": "stream",
     "text": [
      "15246.6             \n",
      "14.2                \n"
     ]
    }
   ],
   "source": [
    "x=15246.59\n",
    "y=14.156\n",
    "print(format(x,'<20.1f'))\n",
    "print(format(y,'<20.1f'))"
   ]
  },
  {
   "cell_type": "markdown",
   "metadata": {},
   "source": [
    "### 9 Write a program in Python to display the value of a number in the center with one digit accuracy."
   ]
  },
  {
   "cell_type": "code",
   "execution_count": 41,
   "metadata": {},
   "outputs": [
    {
     "name": "stdout",
     "output_type": "stream",
     "text": [
      "      15246.6       \n",
      "        14.2        \n"
     ]
    }
   ],
   "source": [
    "x=15246.59\n",
    "y=14.156\n",
    "print(format(x,'^20.1f'))\n",
    "print(format(y,'^20.1f'))"
   ]
  },
  {
   "cell_type": "markdown",
   "metadata": {},
   "source": [
    "### 10 Write a program in Python to left, right and centered justify a string."
   ]
  },
  {
   "cell_type": "code",
   "execution_count": 61,
   "metadata": {},
   "outputs": [
    {
     "name": "stdout",
     "output_type": "stream",
     "text": [
      "Hello               \n",
      "               Hello\n",
      "       Hello        \n"
     ]
    }
   ],
   "source": [
    "word='Hello'\n",
    "print(word.ljust(20))\n",
    "print(word.rjust(20))\n",
    "print(word.center(20))\n",
    "w=10"
   ]
  },
  {
   "cell_type": "markdown",
   "metadata": {},
   "source": [
    "### 11 Write a program in Python to unpack the value of a string and assign it to different variables."
   ]
  },
  {
   "cell_type": "code",
   "execution_count": 68,
   "metadata": {},
   "outputs": [
    {
     "name": "stdout",
     "output_type": "stream",
     "text": [
      "T i m e\n"
     ]
    }
   ],
   "source": [
    "word='Time'\n",
    "a,b,c,d=word\n",
    "print(a,b,c,d)"
   ]
  },
  {
   "cell_type": "markdown",
   "metadata": {
    "colab_type": "text",
    "id": "vclGyZbZcfOP"
   },
   "source": [
    "### 12 Write a program in Python to take a number from user and find its square root and display its binary, hex and octal equivalent."
   ]
  },
  {
   "cell_type": "code",
   "execution_count": 6,
   "metadata": {
    "colab_type": "raw",
    "id": "JWXZHrlwcfOQ"
   },
   "outputs": [
    {
     "name": "stdout",
     "output_type": "stream",
     "text": [
      "Square root of 16 is:  4.0\n",
      "Square root of 16 is:  0b10000\n",
      "Square root of 16 is:  0o20\n",
      "Square root of 16 is:  0x10\n"
     ]
    }
   ],
   "source": [
    "import math\n",
    "n=16\n",
    "print('Square root of',n,'is: ',math.sqrt(n))\n",
    "print('Square root of',n,'is: ',bin(n))\n",
    "print('Square root of',n,'is: ',oct(n))\n",
    "print('Square root of',n,'is: ',hex(n))\n"
   ]
  },
  {
   "cell_type": "markdown",
   "metadata": {},
   "source": [
    "### 13 Write a program in Python to find binary, octal and hexadecimal of a numer surpassing 0b in binary, 0o in octal, and 0x in hexadecimal."
   ]
  },
  {
   "cell_type": "code",
   "execution_count": 27,
   "metadata": {},
   "outputs": [
    {
     "name": "stdout",
     "output_type": "stream",
     "text": [
      "binary 10000\n",
      "Octal 20\n",
      "hexadecimal 10\n"
     ]
    }
   ],
   "source": [
    "n=16\n",
    "print('binary',format(n,'b'))\n",
    "print('Octal',format(n,'o'))\n",
    "print('hexadecimal',format(n,'x'))"
   ]
  },
  {
   "cell_type": "markdown",
   "metadata": {},
   "source": [
    "### 14 Write a program in Python to print a character 5 times."
   ]
  },
  {
   "cell_type": "code",
   "execution_count": 64,
   "metadata": {
    "scrolled": true
   },
   "outputs": [
    {
     "name": "stdout",
     "output_type": "stream",
     "text": [
      "aaaaa\n"
     ]
    }
   ],
   "source": [
    "char='a'\n",
    "print(char*5)"
   ]
  },
  {
   "cell_type": "markdown",
   "metadata": {},
   "source": [
    "### 15 Write a program in Python to find the character values for different numbers and ASCII value for different characters."
   ]
  },
  {
   "cell_type": "code",
   "execution_count": 66,
   "metadata": {},
   "outputs": [
    {
     "name": "stdout",
     "output_type": "stream",
     "text": [
      "D\n",
      "68\n"
     ]
    }
   ],
   "source": [
    "x=68\n",
    "print(chr(x))\n",
    "\n",
    "char='D'\n",
    "print(ord(char))"
   ]
  },
  {
   "cell_type": "markdown",
   "metadata": {
    "colab_type": "text",
    "id": "P07eBi4KcfOU"
   },
   "source": [
    "### 16 Write a program in Python to enter a sentence and calculate its length including whitespaces and excluding whitespaces. Also count number of words in that sentence."
   ]
  },
  {
   "cell_type": "code",
   "execution_count": 9,
   "metadata": {
    "colab": {
     "autoexec": {
      "startup": false,
      "wait_interval": 0
     }
    },
    "colab_type": "code",
    "id": "xLI1U8RJcfOU"
   },
   "outputs": [
    {
     "name": "stdout",
     "output_type": "stream",
     "text": [
      "Enter a sentence\n",
      "Count a sentence statistic.\n",
      "length of sentence including spaces is: 27\n",
      "\n",
      "length not including spaeces is: 24\n",
      "Total words is:  4\n"
     ]
    }
   ],
   "source": [
    "print(\"Enter a sentence\")\n",
    "sentence=input()\n",
    "print('length of sentence including spaces is:',len(sentence))\n",
    "print('\\nlength not including spaeces is:',len(sentence)-sentence.count(' '))\n",
    "print('Total words is: ',len(sentence.split(' ')))"
   ]
  },
  {
   "cell_type": "markdown",
   "metadata": {
    "colab_type": "text",
    "id": "AJSWrElpcfOZ"
   },
   "source": [
    "### 17\tWrite a program in Python to print values of variables separated by a delimiter and end at specific symbol."
   ]
  },
  {
   "cell_type": "code",
   "execution_count": 46,
   "metadata": {
    "colab_type": "raw",
    "id": "fVL5tp7XcfOa"
   },
   "outputs": [
    {
     "name": "stdout",
     "output_type": "stream",
     "text": [
      "5,76,100."
     ]
    }
   ],
   "source": [
    "a=5\n",
    "b=76\n",
    "c=100\n",
    "print(a,b,c,sep=',',end='.')"
   ]
  },
  {
   "cell_type": "markdown",
   "metadata": {
    "colab_type": "text",
    "id": "ei6J38xOcfOd"
   },
   "source": [
    "### 18 Write a program in Python to format the output. "
   ]
  },
  {
   "cell_type": "code",
   "execution_count": 2,
   "metadata": {
    "colab": {
     "autoexec": {
      "startup": false,
      "wait_interval": 0
     }
    },
    "colab_type": "code",
    "id": "EJWEn5P4cfOd"
   },
   "outputs": [
    {
     "name": "stdout",
     "output_type": "stream",
     "text": [
      "The value of x is 5 and y is 10\n"
     ]
    }
   ],
   "source": [
    "x = 5; y = 10\n",
    "print('The value of x is {} and y is {}'.format(x,y))"
   ]
  },
  {
   "cell_type": "code",
   "execution_count": 5,
   "metadata": {},
   "outputs": [
    {
     "name": "stdout",
     "output_type": "stream",
     "text": [
      "I like ice cream and chocklate\n"
     ]
    }
   ],
   "source": [
    "print('I like {0} and {1}'.format('ice cream','chocklate'))"
   ]
  },
  {
   "cell_type": "code",
   "execution_count": 50,
   "metadata": {
    "scrolled": true
   },
   "outputs": [
    {
     "name": "stdout",
     "output_type": "stream",
     "text": [
      "Hello John, Goodmorning\n"
     ]
    }
   ],
   "source": [
    "print('Hello {name}, {greeting}'.format(greeting = 'Goodmorning', name = 'John'))"
   ]
  },
  {
   "cell_type": "markdown",
   "metadata": {},
   "source": [
    "### 19 Write a program in Python to evaluate the expression of string."
   ]
  },
  {
   "cell_type": "code",
   "execution_count": 5,
   "metadata": {},
   "outputs": [
    {
     "name": "stdout",
     "output_type": "stream",
     "text": [
      "534\n"
     ]
    }
   ],
   "source": [
    "n='100*5+9+5**2'\n",
    "print(eval(n))\n"
   ]
  },
  {
   "cell_type": "markdown",
   "metadata": {
    "colab_type": "text",
    "id": "bYbNt3tQcfOj"
   },
   "source": [
    "### 20 Write a program in Python to generate a random number."
   ]
  },
  {
   "cell_type": "code",
   "execution_count": 5,
   "metadata": {},
   "outputs": [
    {
     "name": "stdout",
     "output_type": "stream",
     "text": [
      "0.39844641062832276\n",
      "22\n"
     ]
    }
   ],
   "source": [
    "import random\n",
    "print(random.random())\n",
    "print(random.randint(10,50))"
   ]
  },
  {
   "cell_type": "markdown",
   "metadata": {
    "colab_type": "text",
    "id": "Gi9VMcjCcfOm"
   },
   "source": [
    "### 21 Write a program in Python to randomly generate a date of month (random number generation within range (1,31))."
   ]
  },
  {
   "cell_type": "code",
   "execution_count": 6,
   "metadata": {
    "colab_type": "raw",
    "id": "O_9_5QmTcfOn"
   },
   "outputs": [
    {
     "name": "stdout",
     "output_type": "stream",
     "text": [
      "16\n"
     ]
    }
   ],
   "source": [
    "import random\n",
    "print(random.randint(1,31))"
   ]
  },
  {
   "cell_type": "markdown",
   "metadata": {},
   "source": [
    "### 22 Write a program in Python to print the current date."
   ]
  },
  {
   "cell_type": "code",
   "execution_count": 3,
   "metadata": {
    "scrolled": false
   },
   "outputs": [
    {
     "name": "stdout",
     "output_type": "stream",
     "text": [
      "2018-08-03\n"
     ]
    }
   ],
   "source": [
    "import datetime\n",
    "print(datetime.datetime.now().date())"
   ]
  },
  {
   "cell_type": "markdown",
   "metadata": {
    "colab_type": "text",
    "id": "WqpIS574cfOf"
   },
   "source": [
    "### 23 Write a program in Python to print the calendar of a given month and year."
   ]
  },
  {
   "cell_type": "code",
   "execution_count": 10,
   "metadata": {
    "colab": {
     "autoexec": {
      "startup": false,
      "wait_interval": 0
     }
    },
    "colab_type": "code",
    "id": "7j5pPawrcfOg"
   },
   "outputs": [
    {
     "name": "stdout",
     "output_type": "stream",
     "text": [
      "Enter the year : 2018\n",
      "Enter the month : 8\n",
      "    August 2018\n",
      "Mo Tu We Th Fr Sa Su\n",
      "       1  2  3  4  5\n",
      " 6  7  8  9 10 11 12\n",
      "13 14 15 16 17 18 19\n",
      "20 21 22 23 24 25 26\n",
      "27 28 29 30 31\n",
      "\n"
     ]
    }
   ],
   "source": [
    "import calendar\n",
    "y = int(input(\"Enter the year : \"))\n",
    "m = int(input(\"Enter the month : \"))\n",
    "print(calendar.month(y, m))"
   ]
  },
  {
   "cell_type": "markdown",
   "metadata": {
    "colab": {
     "autoexec": {
      "startup": false,
      "wait_interval": 0
     }
    },
    "colab_type": "code",
    "collapsed": true,
    "id": "7qAlMz35cfOo"
   },
   "source": [
    "## Optional Questions"
   ]
  },
  {
   "cell_type": "markdown",
   "metadata": {},
   "source": [
    "### 24 Raman likes tea but he has coffee. Riya likes coffee but has tea. Write a program in Python so that both can enjoy what they like."
   ]
  },
  {
   "cell_type": "code",
   "execution_count": 7,
   "metadata": {
    "scrolled": true
   },
   "outputs": [
    {
     "name": "stdout",
     "output_type": "stream",
     "text": [
      "Raman got tea \n",
      "Riya got coffee\n"
     ]
    }
   ],
   "source": [
    "Raman='coffee'\n",
    "Riya='tea'\n",
    "\n",
    "temp=Raman\n",
    "Raman=Riya\n",
    "Riya=temp\n",
    "\n",
    "print('Raman got',Raman,'\\nRiya got', Riya)"
   ]
  },
  {
   "cell_type": "markdown",
   "metadata": {},
   "source": [
    "### 25 Write a program in Python to solve the following expression.\n",
    "'Python'\n",
    "\n",
    "output= 642"
   ]
  },
  {
   "cell_type": "code",
   "execution_count": 38,
   "metadata": {
    "scrolled": true
   },
   "outputs": [
    {
     "name": "stdout",
     "output_type": "stream",
     "text": [
      "642\n"
     ]
    }
   ],
   "source": [
    "word='Python'\n",
    "a,b,c,d,e,f=word\n",
    "print(ord(a)+ord(b)+ord(c)+ord(d)+ord(e)+ord(f))\n",
    "\n"
   ]
  },
  {
   "attachments": {
    "image.png": {
     "image/png": "[encoded data removed]"
    }
   },
   "cell_type": "markdown",
   "metadata": {},
   "source": [
    "### 26 Write a program in Python to print following triangle of size 4.\n",
    "![image.png](attachment:image.png)"
   ]
  },
  {
   "cell_type": "code",
   "execution_count": 41,
   "metadata": {},
   "outputs": [
    {
     "name": "stdout",
     "output_type": "stream",
     "text": [
      "*\n",
      "* * \n",
      "* * * \n",
      "* * * * \n"
     ]
    }
   ],
   "source": [
    "print('*')\n",
    "print('* '*2)\n",
    "print('* '*3)\n",
    "print('* '*4)"
   ]
  },
  {
   "attachments": {
    "image.png": {
     "image/png": "[encoded data removed]"
    }
   },
   "cell_type": "markdown",
   "metadata": {},
   "source": [
    "### 27 Write a program in Python to print following .\n",
    "![image.png](attachment:image.png)"
   ]
  },
  {
   "cell_type": "code",
   "execution_count": 56,
   "metadata": {},
   "outputs": [
    {
     "name": "stdout",
     "output_type": "stream",
     "text": [
      "@     @\n",
      "   |\n",
      "   o\n"
     ]
    }
   ],
   "source": [
    "print('@',' '*3,'@')\n",
    "print(' '*2,'|')\n",
    "print(' '*2,'o')"
   ]
  }
 ],
 "metadata": {
  "colab": {
   "default_view": {},
   "name": "Lab1 Notebook.ipynb",
   "provenance": [],
   "version": "0.3.2",
   "views": {}
  },
  "kernelspec": {
   "display_name": "Python 3",
   "language": "python",
   "name": "python3"
  },
  "language_info": {
   "codemirror_mode": {
    "name": "ipython",
    "version": 3
   },
   "file_extension": ".py",
   "mimetype": "text/x-python",
   "name": "python",
   "nbconvert_exporter": "python",
   "pygments_lexer": "ipython3",
   "version": "3.6.4"
  }
 },
 "nbformat": 4,
 "nbformat_minor": 1
}
