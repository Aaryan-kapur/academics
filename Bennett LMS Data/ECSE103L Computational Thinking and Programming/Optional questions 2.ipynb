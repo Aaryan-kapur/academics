{
 "cells": [
  {
   "cell_type": "markdown",
   "metadata": {},
   "source": [
    "###### \tWrite a program to input the initial cost of production and calculate the total cost for cost of production by adding CGST as 9% and SGST as 7%. For example, if cost is 200$, CGST = 18$  SGST= 14$."
   ]
  },
  {
   "cell_type": "code",
   "execution_count": 7,
   "metadata": {
    "collapsed": false
   },
   "outputs": [
    {
     "name": "stdout",
     "output_type": "stream",
     "text": [
      "Enter initial cost of production:200\n",
      "SGST= 14.0 $ CGST= 18.0 $ Total cost= 32.0 $\n"
     ]
    }
   ],
   "source": [
    "cost=int(input('Enter initial cost of production:'))\n",
    "cgst= cost*9/100 \n",
    "sgst= cost*7/100\n",
    "total_cost=cgst+sgst\n",
    "print('SGST=', sgst, '$','CGST=',cgst,'$', 'Total cost=', total_cost,'$')"
   ]
  },
  {
   "cell_type": "markdown",
   "metadata": {},
   "source": [
    "###### Write a program in Python to design a calculator which perform the operations (&,|,^) on two number input by the user. Comment on the output received."
   ]
  },
  {
   "cell_type": "code",
   "execution_count": 9,
   "metadata": {
    "collapsed": false
   },
   "outputs": [
    {
     "name": "stdout",
     "output_type": "stream",
     "text": [
      "Input first number:4\n",
      "Input second number: 2\n",
      "Input operator- &,!,^|\n",
      "4 | 2 = 6\n"
     ]
    }
   ],
   "source": [
    "n1=int(input('Input first number:'))\n",
    "n2=int(input('Input second number: '))\n",
    "op=input('Input operator- &,|,^')\n",
    "if op=='&':\n",
    "    print(n1,'&',n2,'=',n1&n2)\n",
    "elif op=='|':\n",
    "    print(n1,'|',n2,'=',n1|n2)\n",
    "elif op=='^':\n",
    "    print(n1,'^',n2,'=',n1^n2)\n",
    "else:\n",
    "    print('Invalid operator')"
   ]
  },
  {
   "cell_type": "markdown",
   "metadata": {},
   "source": [
    "###### Write a program in Python to print the sum of digits in an integer number ranging from 10 to 99. If the number is not in this range, it should print \"ERROR\"."
   ]
  },
  {
   "cell_type": "code",
   "execution_count": 31,
   "metadata": {
    "collapsed": false
   },
   "outputs": [
    {
     "name": "stdout",
     "output_type": "stream",
     "text": [
      "Enter a 2 digit number: 23\n",
      "3\n",
      "2\n",
      "Sum of digits of 23 = 5\n"
     ]
    }
   ],
   "source": [
    "num=int(input('Enter a 2 digit number: '))\n",
    "nd=0\n",
    "if 10<=num<=99:\n",
    "    d1=num%10\n",
    "    print(d1)\n",
    "    d2=(num//10)%10\n",
    "    print(d2)\n",
    "    print('Sum of digits of',num, '=',d1+d2)\n",
    "else:\n",
    "    print('ERROR')"
   ]
  },
  {
   "cell_type": "markdown",
   "metadata": {},
   "source": [
    "###### Write a program in Python to input a sentence. The program should count the number of digits in a sentence."
   ]
  },
  {
   "cell_type": "code",
   "execution_count": 13,
   "metadata": {
    "collapsed": false
   },
   "outputs": [
    {
     "name": "stdout",
     "output_type": "stream",
     "text": [
      "Input a sentence:sh12345\n",
      "No. of digits= 5\n"
     ]
    }
   ],
   "source": [
    "str=input('Input a sentence:')\n",
    "digits=0\n",
    "for i in str:\n",
    "    #if i.isdigit():\n",
    "     #   digits+=1\n",
    "    # or\n",
    "    if 48<=ord(i)<=57:\n",
    "        digits+=1\n",
    "print('No. of digits=',digits)\n"
   ]
  },
  {
   "cell_type": "markdown",
   "metadata": {},
   "source": [
    "###### Define a function named series in Python to take 2 values as input and print the series in ascending order. For example, it should print 12,13,14,15,16,17 for series(12,17) as well as for series(17,12)."
   ]
  },
  {
   "cell_type": "code",
   "execution_count": 14,
   "metadata": {
    "collapsed": false
   },
   "outputs": [
    {
     "name": "stdout",
     "output_type": "stream",
     "text": [
      "12\n",
      "13\n",
      "14\n",
      "15\n",
      "87\n",
      "88\n",
      "89\n",
      "90\n"
     ]
    }
   ],
   "source": [
    "def series(m,n):\n",
    "    if m<n:\n",
    "        for i in range(m,n+1):\n",
    "            print(i)\n",
    "    else:\n",
    "        for i in range(n,m+1):\n",
    "            print(i)\n",
    "series(12,15)\n",
    "series(90,87)"
   ]
  },
  {
   "cell_type": "markdown",
   "metadata": {},
   "source": [
    "###### Write a program in Python to input degree of an employee as either ME or PHD. If the degree is PHD, the employee gets the message ‘Professor’, If the degree is ME, the employee gets the message ‘TA’."
   ]
  },
  {
   "cell_type": "code",
   "execution_count": 22,
   "metadata": {
    "collapsed": false
   },
   "outputs": [
    {
     "name": "stdout",
     "output_type": "stream",
     "text": [
      "Input degree- ME or PHD:phd\n",
      "Professor\n"
     ]
    }
   ],
   "source": [
    "degree=input('Input degree- ME or PHD:')\n",
    "if degree.upper()=='PHD':    # to take care if user enters PhD or phd or Phd\n",
    "    print('Professor')\n",
    "elif degree.upper()==\"ME\":  # to take care if user enters me or Me or mE\n",
    "    print(\"TA\")\n",
    "else:\n",
    "    print('Invalid degree')"
   ]
  },
  {
   "cell_type": "markdown",
   "metadata": {},
   "source": [
    "###### Write a program in Python to input 5 numbers and find the sum of only positive numbers."
   ]
  },
  {
   "cell_type": "code",
   "execution_count": 24,
   "metadata": {
    "collapsed": false
   },
   "outputs": [
    {
     "name": "stdout",
     "output_type": "stream",
     "text": [
      "Enter number: 12.3\n",
      "Enter number: -8\n",
      "Enter number: -6\n",
      "Enter number: -5\n",
      "Enter number: 0\n",
      "Sum= 12.3\n"
     ]
    }
   ],
   "source": [
    "sum=0\n",
    "for i in range(5):\n",
    "    x=float(input('Enter number: '))\n",
    "    if x>0:\n",
    "        sum+=x\n",
    "print('Sum=',sum)"
   ]
  },
  {
   "cell_type": "markdown",
   "metadata": {},
   "source": [
    "###### Write a program in Python to input a sentence with multiple words and count the number of blanks."
   ]
  },
  {
   "cell_type": "code",
   "execution_count": 26,
   "metadata": {
    "collapsed": false
   },
   "outputs": [
    {
     "name": "stdout",
     "output_type": "stream",
     "text": [
      "Enter a sentence with multiple words:hello hw are you\n",
      "No. of blanks= 3\n"
     ]
    }
   ],
   "source": [
    "str=input('Enter a sentence with multiple words:')\n",
    "c=0\n",
    "for i in str:\n",
    "    if i==' ':\n",
    "        c+=1\n",
    "print('No. of blanks=',c)"
   ]
  },
  {
   "cell_type": "markdown",
   "metadata": {},
   "source": [
    "###### Write a program in Python to print season of year based on integer input as: 1- Winter, 2-Spring 3-Summer,4-Autumn."
   ]
  },
  {
   "cell_type": "code",
   "execution_count": 28,
   "metadata": {
    "collapsed": false
   },
   "outputs": [
    {
     "name": "stdout",
     "output_type": "stream",
     "text": [
      "Enter 1,2,3 or 4:5\n",
      "Wrong input\n"
     ]
    }
   ],
   "source": [
    "s=int(input('Enter 1,2,3 or 4:'))\n",
    "if s==1:\n",
    "    print('Winter')\n",
    "elif s==2:\n",
    "    print('Spring')\n",
    "elif s==3:\n",
    "    print('Summer')\n",
    "elif s==4:\n",
    "    print('Autumn')\n",
    "else:\n",
    "    print('Wrong input')"
   ]
  },
  {
   "cell_type": "markdown",
   "metadata": {},
   "source": [
    "######  Write a python program for following.\n",
    "- Create an initial empty list named \"countries\" \n",
    "- Read the names of n countries from the user and add them to country list:\n",
    "- Use for loop to display all the names of the countries from the list and add \"is Great\" after the country name if it is \"India\""
   ]
  },
  {
   "cell_type": "code",
   "execution_count": null,
   "metadata": {
    "collapsed": true
   },
   "outputs": [],
   "source": [
    "countries=[]\n",
    "for i in range(1,6):\n",
    "    country=input(\"Country name: \")\n",
    "    countries.append(country)\n",
    "for item in countries:\n",
    "    if 'India'==item:\n",
    "        print(item+' is Great')\n",
    "    else:\n",
    "        print(item)"
   ]
  },
  {
   "cell_type": "markdown",
   "metadata": {},
   "source": [
    "###### Write a program in Python to create a list which contains n integers entered by the user and add 2 to each of the even numbers in the list. Example: If initial contents of the list is=[1,2,3,4,5,6,7,8,9,10], the output would be=[1,4,3,6,5,8,7,10,9,12]"
   ]
  },
  {
   "cell_type": "code",
   "execution_count": null,
   "metadata": {
    "collapsed": true
   },
   "outputs": [],
   "source": [
    "l=[]\n",
    "n=int(input(\"Enter the value of n: \"))\n",
    "for i in range(n):\n",
    "    num=int(input(\"Enter number: \"))\n",
    "    if num%2==0:\n",
    "        num+=2\n",
    "    l.append(num)\n",
    "print(\"\\nContents of the list are:\")\n",
    "print(l)"
   ]
  },
  {
   "cell_type": "markdown",
   "metadata": {},
   "source": [
    "###### Write a Python program to find the list in a list of lists whose sum of elements is the highest.\n",
    "Sample lists: [[1,2,3], [4,5,6], [10,11,12], [7,8,9]]\n",
    "Expected Output: [10, 11, 12]"
   ]
  },
  {
   "cell_type": "code",
   "execution_count": null,
   "metadata": {
    "collapsed": true
   },
   "outputs": [],
   "source": [
    "l= [[1,2,3], [4,5,6], [10,11,12], [7,8,9]] \n",
    "sumlist=[]\n",
    "i=0\n",
    "for sublist in l:\n",
    "    maxsum=0\n",
    "    sum=0\n",
    "    for item in sublist:\n",
    "        sum=sum+item\n",
    "    print(\"Sum of the list\",i,\"elements =: \",sum)\n",
    "    sumlist.append(sum)\n",
    "    i+=1\n",
    "maxsum=max(sumlist)\n",
    "print(\"Maximum sum=\",maxsum)\n",
    "index=sumlist.index(maxsum)\n",
    "print(\"list having maximum sum:\")\n",
    "print(l[index])"
   ]
  },
  {
   "cell_type": "markdown",
   "metadata": {},
   "source": [
    "###### Write a python program which does the following\n",
    "- Make a list of the most important words learned in programming so far.\n",
    "- Make a corresponding list of definitions. Fill your list with 'definition'.\n",
    "- Use a for loop to print out each word and its corresponding definition.\n",
    "- Maintain this program until you get to the section on Python's Dictionaries."
   ]
  },
  {
   "cell_type": "code",
   "execution_count": null,
   "metadata": {
    "collapsed": true
   },
   "outputs": [],
   "source": [
    "words=['Variable','List','Loop']\n",
    "definition=['Variable store one value at a time',\n",
    "            'List is the collection of the items',\n",
    "            'Loops are used to execute same lines of code repeatedly']\n",
    "index=0\n",
    "for word in words:\n",
    "    if word in words:\n",
    "        print(\"Word:\",word)\n",
    "        print(\"Definition:\",definition[index])\n",
    "        print(\"\\n\")\n",
    "    index+=1"
   ]
  },
  {
   "cell_type": "markdown",
   "metadata": {},
   "source": [
    "###### Write a program in Python to read a string from user and print in it sorted order of words."
   ]
  },
  {
   "cell_type": "code",
   "execution_count": null,
   "metadata": {
    "collapsed": true
   },
   "outputs": [],
   "source": [
    "str1 = input(\"Enter a string: \")\n",
    "words = str1.split() # split the string into words\n",
    "words.sort() # sort the list\n",
    "print(\"The sorted words are:\")\n",
    "for word in words:\n",
    "    print(word)"
   ]
  },
  {
   "cell_type": "markdown",
   "metadata": {},
   "source": [
    "###### Write a python program to remove punctuations !()-[]{};:'\"\\,<>./?@#$%^&*_~ from a string. \n",
    "For example if the user enteres the string as : hello @ (how) are - you? \n",
    "then your program should print: hello how are you"
   ]
  },
  {
   "cell_type": "code",
   "execution_count": null,
   "metadata": {
    "collapsed": true
   },
   "outputs": [],
   "source": [
    "punctuations = '''!()-[]{};:'\"\\,<>./?@#$%^&*_~'''\n",
    "str1 = input(\"Enter string with punctuations: \")\n",
    "str_without_punct = \"\"\n",
    "for char in str1:\n",
    "    if char not in punctuations:\n",
    "        str_without_punct = str_without_punct + char\n",
    "print(\"String without punctuans is :\", str_without_punct)"
   ]
  },
  {
   "cell_type": "markdown",
   "metadata": {},
   "source": [
    "###### Write a program in Python to count the number of vowels in a string."
   ]
  },
  {
   "cell_type": "code",
   "execution_count": 5,
   "metadata": {
    "collapsed": false
   },
   "outputs": [
    {
     "name": "stdout",
     "output_type": "stream",
     "text": [
      "Input a string:AEIOUaeiuo\n",
      "AEIOUaeiuo  has  10  vowels\n"
     ]
    }
   ],
   "source": [
    "str=input('Input a string:')\n",
    "vowels=\"aeiouAEIOU\"\n",
    "count=0\n",
    "for i in str:\n",
    "    if i in vowels:\n",
    "        count+=1\n",
    "print(str,' has ',count, ' vowels')\n"
   ]
  },
  {
   "cell_type": "markdown",
   "metadata": {},
   "source": [
    "######  Write a program in Python to remove all duplicate characters from a string\n"
   ]
  },
  {
   "cell_type": "code",
   "execution_count": 3,
   "metadata": {
    "collapsed": false
   },
   "outputs": [
    {
     "name": "stdout",
     "output_type": "stream",
     "text": [
      "Input a string with duplicate characters:hello how hi\n",
      "helo wi\n"
     ]
    }
   ],
   "source": [
    "str=input('Input a string with duplicate characters:')\n",
    "l=list(str)\n",
    "nl=[]\n",
    "for i in l:\n",
    "    if i not in nl:\n",
    "        nl.append(i)\n",
    "print(''.join(nl))"
   ]
  },
  {
   "cell_type": "markdown",
   "metadata": {},
   "source": [
    "###### Write a program to find the square and cube of all the numbers between start and end. Create a file named  \"cubes.txt\" and store one number per line into file. Read the values of start and end from the file. Also print the start and ending number. \n",
    "Output should look like:\n",
    "Start number = 1\n",
    "End number = 20\n",
    "Cube of 1 is 1\n",
    "Cube 2 is 8\n",
    "Cube of 3 is 27\n",
    "....."
   ]
  },
  {
   "cell_type": "code",
   "execution_count": null,
   "metadata": {
    "collapsed": true
   },
   "outputs": [],
   "source": [
    "data = open(\"cubes.txt\", \"r\").readlines()\n",
    "start = int(data[0])\n",
    "end = int(data[1])\n",
    "print(\"Starting number is : \",start)\n",
    "print(\"Ending number is : \",end)\n",
    "for i in range(start, end+1):\n",
    "    cube = i*i*i\n",
    "    print(\"Cube of\", i, \"is \", cube)"
   ]
  },
  {
   "cell_type": "markdown",
   "metadata": {},
   "source": [
    "###### Write a program for following:\n",
    "- Create a new file called \"states.txt\". \n",
    "- Take the values of state and its capital(atleast 10 records) from the user and write them to newly created file.\n",
    "- The file should containt 1 record per state."
   ]
  },
  {
   "cell_type": "code",
   "execution_count": 1,
   "metadata": {
    "collapsed": false
   },
   "outputs": [
    {
     "name": "stdout",
     "output_type": "stream",
     "text": [
      "Enter State: Punjab\n",
      "Enter Capital of  Punjab\n",
      "Chandigarh\n",
      "Enter State: Bihar\n",
      "Enter Capital of  Bihar\n",
      "Patna\n",
      "Enter State: UP\n",
      "Enter Capital of  UP\n",
      "Lucknow\n",
      "Enter State: Maharashtra\n",
      "Enter Capital of  Maharashtra\n",
      "Mumbai\n",
      "Enter State: himachal\n",
      "Enter Capital of  himachal\n",
      "Shimla\n",
      "Punjab, Chandigarh\n",
      "\n",
      "Bihar, Patna\n",
      "\n",
      "UP, Lucknow\n",
      "\n",
      "Maharashtra, Mumbai\n",
      "\n",
      "himachal, Shimla\n",
      "\n"
     ]
    }
   ],
   "source": [
    "fobj = open(\"states.txt\", \"w\")\n",
    "for i in range(5):\n",
    "    state = input(\"Enter State: \")\n",
    "    print(\"Enter Capital of \", state)\n",
    "    capital = input(\"\")\n",
    "    record = state+\", \"+capital+\"\\n\"\n",
    "    fobj.write(record)\n",
    "fobj.close()\n",
    "fread = open(\"states.txt\", \"r\").readlines()\n",
    "for line in fread:\n",
    "    print(line)"
   ]
  },
  {
   "cell_type": "code",
   "execution_count": null,
   "metadata": {
    "collapsed": true
   },
   "outputs": [],
   "source": []
  }
 ],
 "metadata": {
  "colab": {
   "default_view": {},
   "name": "Lab1 Notebook.ipynb",
   "provenance": [],
   "version": "0.3.2",
   "views": {}
  },
  "kernelspec": {
   "display_name": "Python 3",
   "language": "python",
   "name": "python3"
  },
  "language_info": {
   "codemirror_mode": {
    "name": "ipython",
    "version": 3
   },
   "file_extension": ".py",
   "mimetype": "text/x-python",
   "name": "python",
   "nbconvert_exporter": "python",
   "pygments_lexer": "ipython3",
   "version": "3.6.0"
  }
 },
 "nbformat": 4,
 "nbformat_minor": 1
}
