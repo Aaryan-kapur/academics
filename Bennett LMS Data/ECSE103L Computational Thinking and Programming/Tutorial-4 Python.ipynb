{
 "cells": [
  {
   "cell_type": "code",
   "execution_count": 1,
   "metadata": {},
   "outputs": [
    {
     "ename": "SyntaxError",
     "evalue": "invalid character in identifier (<ipython-input-1-5fb1422359a0>, line 1)",
     "output_type": "error",
     "traceback": [
      "\u001b[1;36m  File \u001b[1;32m\"<ipython-input-1-5fb1422359a0>\"\u001b[1;36m, line \u001b[1;32m1\u001b[0m\n\u001b[1;33m    for x in (340,’abc’,340.67,True):\u001b[0m\n\u001b[1;37m                      ^\u001b[0m\n\u001b[1;31mSyntaxError\u001b[0m\u001b[1;31m:\u001b[0m invalid character in identifier\n"
     ]
    }
   ],
   "source": [
    "for x in (340,’abc’,340.67,True):\n",
    "                      Print(type(x))"
   ]
  },
  {
   "cell_type": "code",
   "execution_count": 2,
   "metadata": {},
   "outputs": [
    {
     "name": "stdout",
     "output_type": "stream",
     "text": [
      "4\n",
      "6\n",
      "8\n",
      "10\n"
     ]
    }
   ],
   "source": [
    "for x in range(2,10,2):\n",
    "                       print(x+2)\n",
    "        "
   ]
  },
  {
   "cell_type": "code",
   "execution_count": 3,
   "metadata": {},
   "outputs": [
    {
     "name": "stdout",
     "output_type": "stream",
     "text": [
      "3\n",
      "4\n",
      "5\n",
      "6\n",
      "7\n",
      "8\n",
      "9\n",
      "10\n",
      "11\n",
      "12\n"
     ]
    }
   ],
   "source": [
    "for x in range(0,10):\n",
    "            x=x+3\n",
    "            print(x)"
   ]
  },
  {
   "cell_type": "code",
   "execution_count": 4,
   "metadata": {},
   "outputs": [
    {
     "name": "stdout",
     "output_type": "stream",
     "text": [
      "0\n",
      "0\n",
      "1\n",
      "0\n",
      "1\n",
      "2\n",
      "0\n",
      "1\n",
      "2\n",
      "3\n"
     ]
    }
   ],
   "source": [
    "for y in range(5):\n",
    "                   for x in range(y):\n",
    "                         print(x)"
   ]
  },
  {
   "cell_type": "code",
   "execution_count": 5,
   "metadata": {},
   "outputs": [
    {
     "name": "stdout",
     "output_type": "stream",
     "text": [
      "1\n",
      "2\n",
      "2\n",
      "3\n",
      "3\n",
      "3\n",
      "4\n",
      "4\n",
      "4\n",
      "4\n"
     ]
    }
   ],
   "source": [
    "for y in range(5):\n",
    "                   for x in range(y):\n",
    "                         print(y)\n",
    "                "
   ]
  },
  {
   "cell_type": "code",
   "execution_count": 6,
   "metadata": {},
   "outputs": [
    {
     "name": "stdout",
     "output_type": "stream",
     "text": [
      "10\n",
      "15\n",
      "20\n",
      "25\n",
      "50\n",
      "55\n",
      "74\n",
      "84\n",
      "66\n",
      "12\n",
      "17\n",
      "25\n",
      "30\n"
     ]
    }
   ],
   "source": [
    "for x in (10,20,50,74,84,66,12,25):\n",
    "                        print(x)\n",
    "                        if(x>50):\n",
    "                                continue\n",
    "                        print(x+5)"
   ]
  },
  {
   "cell_type": "code",
   "execution_count": 7,
   "metadata": {},
   "outputs": [
    {
     "name": "stdout",
     "output_type": "stream",
     "text": [
      "10\n",
      "15\n",
      "20\n",
      "25\n",
      "50\n",
      "55\n",
      "74\n"
     ]
    }
   ],
   "source": [
    "for x in (10,20,50,74,84,66,12,25):\n",
    "                 print(x)\n",
    "                 if(x>50):\n",
    "                       break\n",
    "                 print(x+5)"
   ]
  },
  {
   "cell_type": "code",
   "execution_count": 8,
   "metadata": {},
   "outputs": [
    {
     "name": "stdout",
     "output_type": "stream",
     "text": [
      "10\n",
      "20\n",
      "50\n",
      "74\n"
     ]
    }
   ],
   "source": [
    "for x in (10,20,50,74,84,66,12,25):\n",
    "    print(x)\n",
    "    if(x>50):\n",
    "        break\n",
    "        print(x+5)"
   ]
  },
  {
   "cell_type": "code",
   "execution_count": 9,
   "metadata": {},
   "outputs": [
    {
     "name": "stdout",
     "output_type": "stream",
     "text": [
      "10\n",
      "20\n",
      "50\n",
      "74\n",
      "84\n",
      "66\n",
      "12\n",
      "25\n"
     ]
    }
   ],
   "source": [
    "for x in (10,20,50,74,84,66,12,25):\n",
    "                        print(x)\n",
    "                        if(x>50):\n",
    "                                continue\n",
    "                                print(x+5)"
   ]
  },
  {
   "cell_type": "code",
   "execution_count": 10,
   "metadata": {},
   "outputs": [
    {
     "ename": "SyntaxError",
     "evalue": "invalid character in identifier (<ipython-input-10-758b94643ac8>, line 1)",
     "output_type": "error",
     "traceback": [
      "\u001b[1;36m  File \u001b[1;32m\"<ipython-input-10-758b94643ac8>\"\u001b[1;36m, line \u001b[1;32m1\u001b[0m\n\u001b[1;33m    nw = ’’\u001b[0m\n\u001b[1;37m          ^\u001b[0m\n\u001b[1;31mSyntaxError\u001b[0m\u001b[1;31m:\u001b[0m invalid character in identifier\n"
     ]
    }
   ],
   "source": [
    "nw = ’’\n",
    "for x in ‘hello students’:\n",
    "    nw=x+nw\n",
    "print(nw)"
   ]
  },
  {
   "cell_type": "code",
   "execution_count": null,
   "metadata": {},
   "outputs": [],
   "source": [
    "2.\tMake a flow diagram to check whether a number entered by the users is an Armstrong \n",
    "number or not. 153 is an Armstrong number as 153 = 13+53+33 while 125 is not an Armstrong number because 125≠13+23+53."
   ]
  },
  {
   "cell_type": "code",
   "execution_count": null,
   "metadata": {},
   "outputs": [],
   "source": [
    "Flow chart is attachement in the mail"
   ]
  },
  {
   "cell_type": "code",
   "execution_count": null,
   "metadata": {},
   "outputs": [],
   "source": [
    "4.\t2520 is the smallest number that can be divided by each of the numbers from \n",
    "1 to 10 without any remainder. What is the smallest positive number that is divisible by all the numbers from 1 to 20?"
   ]
  },
  {
   "cell_type": "code",
   "execution_count": 11,
   "metadata": {},
   "outputs": [
    {
     "name": "stdout",
     "output_type": "stream",
     "text": [
      "232792560\n"
     ]
    }
   ],
   "source": [
    "num = 2*3*5*7*11*13*17*19\n",
    "div = 0\n",
    "mult = 2\n",
    "while div == 0:\n",
    "    div = 1\n",
    "    for i in range (1,20):\n",
    "        if(num % i != 0):\n",
    "            div =0\n",
    "            break\n",
    "    if(div == 1):\n",
    "        break\n",
    "    num *= mult\n",
    "    mult += 1\n",
    "    \n",
    "print(num)"
   ]
  },
  {
   "cell_type": "code",
   "execution_count": null,
   "metadata": {},
   "outputs": [],
   "source": [
    "3.\tWrite python program to find all Armstrong number between 1 to 1000."
   ]
  },
  {
   "cell_type": "code",
   "execution_count": 12,
   "metadata": {},
   "outputs": [
    {
     "name": "stdout",
     "output_type": "stream",
     "text": [
      "Armstrong number found:  1\n",
      "Armstrong number found:  153\n",
      "Armstrong number found:  370\n",
      "Armstrong number found:  371\n",
      "Armstrong number found:  407\n"
     ]
    }
   ],
   "source": [
    "num = 1\n",
    "\n",
    "while(num <= 1000):\n",
    "    sum1 = 0\n",
    "    num1 = num\n",
    "    while(num1 != 0):\n",
    "        digit = num1 % 10\n",
    "        num1 = num1 //10\n",
    "        sum1 += pow(digit,3)\n",
    "    if(sum1 == num):\n",
    "        print(\"Armstrong number found: \", num)\n",
    "    num += 1"
   ]
  },
  {
   "cell_type": "code",
   "execution_count": null,
   "metadata": {},
   "outputs": [],
   "source": []
  }
 ],
 "metadata": {
  "kernelspec": {
   "display_name": "Python 3",
   "language": "python",
   "name": "python3"
  },
  "language_info": {
   "codemirror_mode": {
    "name": "ipython",
    "version": 3
   },
   "file_extension": ".py",
   "mimetype": "text/x-python",
   "name": "python",
   "nbconvert_exporter": "python",
   "pygments_lexer": "ipython3",
   "version": "3.6.5"
  }
 },
 "nbformat": 4,
 "nbformat_minor": 2
}
