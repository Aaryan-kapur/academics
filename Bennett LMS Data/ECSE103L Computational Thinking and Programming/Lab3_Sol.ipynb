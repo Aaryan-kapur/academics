{
 "cells": [
  {
   "cell_type": "markdown",
   "metadata": {},
   "source": [
    "# Student Name: \n",
    "# Enrollment Number: \n",
    "# Lab assignemnt number:"
   ]
  },
  {
   "cell_type": "markdown",
   "metadata": {},
   "source": [
    "## Lab 3: Arithmetic Expressions, Operators"
   ]
  },
  {
   "cell_type": "markdown",
   "metadata": {},
   "source": [
    "## Compulasory Questions"
   ]
  },
  {
   "cell_type": "markdown",
   "metadata": {},
   "source": [
    "### 1 Write a program in Python that takes side of a square (floating-point value) as input and prints the area and perimeter of the square."
   ]
  },
  {
   "cell_type": "code",
   "execution_count": 2,
   "metadata": {
    "scrolled": false
   },
   "outputs": [
    {
     "name": "stdout",
     "output_type": "stream",
     "text": [
      "length 5.5\n",
      "Area is : 30.25 \n",
      "Perimeter is : 22.0\n"
     ]
    }
   ],
   "source": [
    "a=float(input('length '))\n",
    "area=a**2\n",
    "perimeter=4*a\n",
    "print('Area is :',area,'\\nPerimeter is :',perimeter)"
   ]
  },
  {
   "cell_type": "markdown",
   "metadata": {},
   "source": [
    "### 2\tWrite a program in Python to take input length and breadth of a rectangle (floating-point values) and print the area and perimeter of the rectangle."
   ]
  },
  {
   "cell_type": "code",
   "execution_count": 3,
   "metadata": {
    "scrolled": false
   },
   "outputs": [
    {
     "name": "stdout",
     "output_type": "stream",
     "text": [
      "length 5.5\n",
      "bredth 6.2\n",
      "Area is : 34.1 \n",
      "Perimeter is : 23.4\n"
     ]
    }
   ],
   "source": [
    "l=float(input('length '))\n",
    "b=float(input('bredth '))\n",
    "area=l*b\n",
    "perimeter=2*(a+b)\n",
    "print('Area is :',area,'\\nPerimeter is :',perimeter)"
   ]
  },
  {
   "cell_type": "markdown",
   "metadata": {},
   "source": [
    "### 3 Write a program in Python which converts 8 hours and 32 minutes into seconds."
   ]
  },
  {
   "cell_type": "code",
   "execution_count": null,
   "metadata": {},
   "outputs": [],
   "source": [
    "hours=8\n",
    "minutes=32\n",
    "seconds= (hours*3600)+(minutes*60)\n",
    "print(seconds)"
   ]
  },
  {
   "cell_type": "markdown",
   "metadata": {},
   "source": [
    "### 4 Write a program in Python which inputs time in hours and minutes and converts it into seconds."
   ]
  },
  {
   "cell_type": "code",
   "execution_count": 1,
   "metadata": {},
   "outputs": [
    {
     "name": "stdout",
     "output_type": "stream",
     "text": [
      "hours 4\n",
      "minutes 30\n",
      "16200\n"
     ]
    }
   ],
   "source": [
    "hours=int(input('hours '))\n",
    "minutes=int(input('minutes '))\n",
    "seconds= (hours*3600)+(minutes*60)\n",
    "print(seconds)"
   ]
  },
  {
   "cell_type": "markdown",
   "metadata": {},
   "source": [
    "### 5\tWrite a program in Python to convert temperature in degrees Celcius to degrees Fahrenheit. The formula is F = (temp * 9/5) +32 (partially solved: temp=40 ᵒC, The output should be 104 ᵒF )"
   ]
  },
  {
   "cell_type": "code",
   "execution_count": 6,
   "metadata": {},
   "outputs": [
    {
     "name": "stdout",
     "output_type": "stream",
     "text": [
      "temperature in ᵒC 40\n",
      "40 ᵒC =  104 ᵒF\n"
     ]
    }
   ],
   "source": [
    "temp_in_deg=int(input('temperature in ᵒC '))\n",
    "temp_in_fer= ((temp_in_deg*9)//5)+32\n",
    "print(temp_in_deg,'ᵒC = ',temp_in_fer,'ᵒF')"
   ]
  },
  {
   "cell_type": "markdown",
   "metadata": {},
   "source": [
    "### 6 Write a program in Python to multiply and divide using bitwise shift operators. Observe the given examples, "
   ]
  },
  {
   "cell_type": "raw",
   "metadata": {},
   "source": [
    "if n=8 = (1000 in binary), n>>1 will give 100 after shifting bits by 1 place to right. \n",
    "                           n<<1 will give 10000 after shifting bits by 1 place to left."
   ]
  },
  {
   "cell_type": "code",
   "execution_count": 13,
   "metadata": {
    "scrolled": true
   },
   "outputs": [
    {
     "name": "stdout",
     "output_type": "stream",
     "text": [
      "8 binary 1000\n",
      "8 * 2= 16 10000\n",
      "8 / 2= 4 100\n"
     ]
    }
   ],
   "source": [
    "n=8\n",
    "print(n,'binary',format(n,'b'))\n",
    "print(n,'* 2=',n<<1, format(n<<1,'b'))\n",
    "print(n,'/ 2=',n>>1,format(n>>1,'b'))"
   ]
  },
  {
   "cell_type": "markdown",
   "metadata": {},
   "source": [
    "### 7\tWrite a program in Python to multiply and divide by two 'k times' using bitwise shift operators. For example:"
   ]
  },
  {
   "cell_type": "raw",
   "metadata": {},
   "source": [
    "Input\n",
    "    n=16\n",
    "    k=3\n",
    "Output\n",
    "    16 after n<<3 = 128  \n",
    "    16 after n>>3 = 2"
   ]
  },
  {
   "cell_type": "code",
   "execution_count": 14,
   "metadata": {},
   "outputs": [
    {
     "name": "stdout",
     "output_type": "stream",
     "text": [
      "Value of 16 after multiplying by two 3 times is 128\n",
      "Value of after dividing by two 3 times is 2\n"
     ]
    }
   ],
   "source": [
    "n=16\n",
    "k=3\n",
    "n_ktime_mul=n<<k\n",
    "print('Value of', n,'after multiplying by two',k,'times is',n_ktime_mul)\n",
    "n_ktime_div=n>>k\n",
    "print('Value of','after dividing by two',k,'times is',n_ktime_div)"
   ]
  },
  {
   "cell_type": "markdown",
   "metadata": {},
   "source": [
    "### 8\tWrite a program in Python to take a number from user and find its square root. "
   ]
  },
  {
   "cell_type": "code",
   "execution_count": 17,
   "metadata": {},
   "outputs": [
    {
     "name": "stdout",
     "output_type": "stream",
     "text": [
      "Enter a number 64\n",
      "Square root of 64 is:  8.0\n"
     ]
    }
   ],
   "source": [
    "import math\n",
    "n=int(input('Enter a number '))\n",
    "print('Square root of',n,'is: ',math.sqrt(n))"
   ]
  },
  {
   "cell_type": "markdown",
   "metadata": {},
   "source": [
    "### 9 Write a program in Python to calculate root of equation: ax2 +bx+c."
   ]
  },
  {
   "cell_type": "code",
   "execution_count": 18,
   "metadata": {},
   "outputs": [
    {
     "name": "stdout",
     "output_type": "stream",
     "text": [
      "Roots are (7+0j) (3+0j)\n"
     ]
    }
   ],
   "source": [
    "import cmath\n",
    "a=1\n",
    "b=-10\n",
    "c=21\n",
    "root1=(-b+(cmath.sqrt(pow(b,2)-(4*a*c))))/(2*a)\n",
    "root2=(-b-(cmath.sqrt(pow(b,2)-(4*a*c))))/(2*a)\n",
    "print('Roots are',root1,root2)"
   ]
  },
  {
   "cell_type": "markdown",
   "metadata": {},
   "source": [
    "### 10\tWrite a program in Python that inputs data (class, age, marks in mathematics, science) about two persons- Ram and Shyam. The program uses relational operators to check whether they study in same class? Is Ram younger to Shyam? Is Ram’s marks in mathematics more than Shyam? Is Ram’s marks in science less than Ram? The answer by the program is either True or False. The operators to be used are: <, >, ==. "
   ]
  },
  {
   "cell_type": "code",
   "execution_count": 19,
   "metadata": {},
   "outputs": [
    {
     "name": "stdout",
     "output_type": "stream",
     "text": [
      "Both are in same class ? True\n",
      "Both are of different age ? True\n",
      "Ram score more than Shyam in Math ? False\n",
      "Ram score less than Shyam in Science ? True\n"
     ]
    }
   ],
   "source": [
    "R_class='XII'\n",
    "S_class='XII'\n",
    "\n",
    "R_age=18\n",
    "S_age=19\n",
    "\n",
    "R_math=80\n",
    "S_math=90\n",
    "\n",
    "R_sci=85\n",
    "S_sci=92\n",
    "\n",
    "print('Both are in same class ?',R_class==S_class)\n",
    "print('Both are of different age ?',R_age!=S_age)\n",
    "print('Ram score more than Shyam in Math ?',R_math>S_math)\n",
    "print('Ram score less than Shyam in Science ?',R_sci<S_sci)\n"
   ]
  },
  {
   "cell_type": "markdown",
   "metadata": {},
   "source": [
    "### 11 Write the following code and execute:"
   ]
  },
  {
   "cell_type": "code",
   "execution_count": 20,
   "metadata": {},
   "outputs": [
    {
     "name": "stdout",
     "output_type": "stream",
     "text": [
      "x and y is False\n",
      "x or y is True\n",
      "not x is False\n"
     ]
    }
   ],
   "source": [
    "x = True\n",
    "y = False\n",
    "print('x and y is',x and y) # Output: x and y is False\n",
    "print('x or y is',x or y) # Output: x or y is True\n",
    "print('not x is',not x) # Output: not x is False"
   ]
  },
  {
   "cell_type": "markdown",
   "metadata": {},
   "source": [
    "### 12 Write a program in python to perform following logical AND OR NOT operations: "
   ]
  },
  {
   "cell_type": "raw",
   "metadata": {},
   "source": [
    "1<2 and 4>10\n",
    "6==8 or 2>10\n",
    "6<8 and 6>8"
   ]
  },
  {
   "cell_type": "code",
   "execution_count": 23,
   "metadata": {},
   "outputs": [
    {
     "name": "stdout",
     "output_type": "stream",
     "text": [
      "False\n",
      "False\n",
      "False\n"
     ]
    }
   ],
   "source": [
    "print(1<2 and 4>10)\n",
    "print(6==8 or 2>10)\n",
    "print(6<8 and 6>8)"
   ]
  },
  {
   "cell_type": "markdown",
   "metadata": {},
   "source": [
    "### 13 Write the program code and execute:\n"
   ]
  },
  {
   "cell_type": "code",
   "execution_count": 24,
   "metadata": {},
   "outputs": [
    {
     "name": "stdout",
     "output_type": "stream",
     "text": [
      "4\n",
      "12\n",
      "8\n"
     ]
    }
   ],
   "source": [
    "x=12 \n",
    "y=4 \n",
    "print(x&y) \n",
    "print(x|y)\n",
    "print(x^y)"
   ]
  },
  {
   "cell_type": "markdown",
   "metadata": {},
   "source": [
    "### 14\tWrite the program code and execute:"
   ]
  },
  {
   "cell_type": "code",
   "execution_count": 25,
   "metadata": {
    "scrolled": true
   },
   "outputs": [
    {
     "name": "stdout",
     "output_type": "stream",
     "text": [
      "True\n",
      "True\n"
     ]
    }
   ],
   "source": [
    "x = 'Hello world'\n",
    "print('H' in x)    # Output: True\n",
    "print('h' not in x)   # Output: True"
   ]
  },
  {
   "cell_type": "markdown",
   "metadata": {},
   "source": [
    "### 15 Write a program in Python to convert number 13 into 2. Students may introduce one more variable and use bitwise operators (such as AND, OR, XOR)."
   ]
  },
  {
   "cell_type": "code",
   "execution_count": 57,
   "metadata": {},
   "outputs": [
    {
     "name": "stdout",
     "output_type": "stream",
     "text": [
      "2\n"
     ]
    }
   ],
   "source": [
    "a=13\n",
    "b=15\n",
    "out=a^b\n",
    "print(out)"
   ]
  },
  {
   "cell_type": "markdown",
   "metadata": {},
   "source": [
    "## Optional Questions"
   ]
  },
  {
   "cell_type": "markdown",
   "metadata": {},
   "source": [
    "### 16\tWrite a program in python to calculate the length of hypotenuse of right angle triangle when base and perpendicular are given."
   ]
  },
  {
   "cell_type": "code",
   "execution_count": 26,
   "metadata": {
    "scrolled": true
   },
   "outputs": [
    {
     "name": "stdout",
     "output_type": "stream",
     "text": [
      "base 3\n",
      "perpendicular 4\n",
      "hypotenuse is: 5.0\n"
     ]
    }
   ],
   "source": [
    "#h2=b2+p2\n",
    "import math\n",
    "b=int(input('base '))\n",
    "p=int(input('perpendicular '))\n",
    "h=math.sqrt(pow(b,2)+pow(p,2))\n",
    "\n",
    "print('hypotenuse is:',h)"
   ]
  },
  {
   "cell_type": "markdown",
   "metadata": {},
   "source": [
    "### 17\tWrite a program in python to convert from degree to radian and from radian to degree."
   ]
  },
  {
   "cell_type": "raw",
   "metadata": {},
   "source": [
    "pi=22/7\n",
    "radian = degree*(pi/180)\n",
    "degree=(radian *180)/pi"
   ]
  },
  {
   "cell_type": "code",
   "execution_count": 47,
   "metadata": {},
   "outputs": [
    {
     "name": "stdout",
     "output_type": "stream",
     "text": [
      "Input degrees: 60\n",
      "60.0 deg =  1.0476190476190477 rad\n"
     ]
    }
   ],
   "source": [
    "pi=22/7\n",
    "degree = float(input(\"Input degrees: \"))\n",
    "radian = degree*(pi/180)\n",
    "print(degree,'deg = ',radian,'rad')"
   ]
  },
  {
   "cell_type": "code",
   "execution_count": 48,
   "metadata": {},
   "outputs": [
    {
     "name": "stdout",
     "output_type": "stream",
     "text": [
      "Input radian: 1.04761904761\n",
      "1.04761904761 rad =  59.999999999481815 deg\n"
     ]
    }
   ],
   "source": [
    "pi=22/7\n",
    "radian = float(input(\"Input radian: \"))\n",
    "degree=(radian *180)/pi\n",
    "print(radian,'rad = ',degree,'deg')"
   ]
  },
  {
   "cell_type": "markdown",
   "metadata": {},
   "source": [
    "### 18\tWrite a program in Python to convert number 13 into 79. Students may introduce one more variable and  use bitwise operators (such as AND, OR, XOR). "
   ]
  },
  {
   "cell_type": "code",
   "execution_count": 56,
   "metadata": {
    "scrolled": true
   },
   "outputs": [
    {
     "name": "stdout",
     "output_type": "stream",
     "text": [
      "79\n"
     ]
    }
   ],
   "source": [
    "a=13\n",
    "b=79\n",
    "out=a|b\n",
    "print(out)"
   ]
  },
  {
   "cell_type": "markdown",
   "metadata": {},
   "source": [
    "### 19 Write a program in python to calculate area of triangle when all three sides are given. "
   ]
  },
  {
   "cell_type": "raw",
   "metadata": {},
   "source": [
    "s=(a+b+c)/2\n",
    "area =  √(s(s-a)(s-b)(s-c) )"
   ]
  },
  {
   "cell_type": "code",
   "execution_count": 55,
   "metadata": {
    "scrolled": false
   },
   "outputs": [
    {
     "name": "stdout",
     "output_type": "stream",
     "text": [
      "Enter sides of triangle\n",
      "a 3\n",
      "b 4\n",
      "c 5\n",
      "Area of triangle is: 6.0\n"
     ]
    }
   ],
   "source": [
    "import math\n",
    "print('Enter sides of triangle')\n",
    "\n",
    "a=int(input('a '))\n",
    "b=int(input('b '))\n",
    "c=int(input('c '))\n",
    "\n",
    "s=(a+b+c)/2\n",
    "area=math.sqrt(s*(s-a)*(s-b)*(s-c))\n",
    "print('Area of triangle is:',area)"
   ]
  },
  {
   "cell_type": "markdown",
   "metadata": {
    "collapsed": true
   },
   "source": [
    "### 20 Write a program in python to perform addition, subtraction, multiplication and division operations on complex numbers. "
   ]
  },
  {
   "cell_type": "code",
   "execution_count": 27,
   "metadata": {},
   "outputs": [
    {
     "name": "stdout",
     "output_type": "stream",
     "text": [
      "a+b (25+8j)\n",
      "a-b (15+2j)\n",
      "a*b (85+85j)\n",
      "a/b (3.3823529411764706-1.0294117647058825j)\n"
     ]
    }
   ],
   "source": [
    "import cmath\n",
    "a=complex(20+5j)\n",
    "b=complex(5+3j)\n",
    "print('a+b',a+b)\n",
    "print('a-b',a-b)\n",
    "print('a*b',a*b)\n",
    "print('a/b',a/b)"
   ]
  },
  {
   "cell_type": "code",
   "execution_count": null,
   "metadata": {},
   "outputs": [],
   "source": []
  }
 ],
 "metadata": {
  "kernelspec": {
   "display_name": "Python 3",
   "language": "python",
   "name": "python3"
  },
  "language_info": {
   "codemirror_mode": {
    "name": "ipython",
    "version": 3
   },
   "file_extension": ".py",
   "mimetype": "text/x-python",
   "name": "python",
   "nbconvert_exporter": "python",
   "pygments_lexer": "ipython3",
   "version": "3.6.4"
  }
 },
 "nbformat": 4,
 "nbformat_minor": 2
}
