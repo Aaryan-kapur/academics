{
 "cells": [
  {
   "cell_type": "markdown",
   "metadata": {
    "collapsed": true
   },
   "source": [
    "## Quick Revision\n",
    "### Operators "
   ]
  },
  {
   "cell_type": "markdown",
   "metadata": {},
   "source": [
    "### Logical operator"
   ]
  },
  {
   "cell_type": "code",
   "execution_count": null,
   "metadata": {},
   "outputs": [],
   "source": [
    "print(4 and 5)\n",
    "print(5 and 4)\n",
    "print(4 or 5)\n",
    "print(5 or 4)"
   ]
  },
  {
   "cell_type": "markdown",
   "metadata": {},
   "source": [
    "### Bitwise operator"
   ]
  },
  {
   "cell_type": "code",
   "execution_count": null,
   "metadata": {},
   "outputs": [],
   "source": [
    "print(4 & 5)\n",
    "print(5 & 4)\n",
    "print(4 | 5)\n",
    "print(5 | 4)"
   ]
  },
  {
   "cell_type": "code",
   "execution_count": null,
   "metadata": {},
   "outputs": [],
   "source": [
    "print(12>>2)\n",
    "print(12<<2)"
   ]
  },
  {
   "cell_type": "markdown",
   "metadata": {},
   "source": [
    "### Decision Control "
   ]
  },
  {
   "cell_type": "code",
   "execution_count": null,
   "metadata": {},
   "outputs": [],
   "source": [
    "x = 10\n",
    "y = 10\n",
    "z = 10\n",
    "print(x<y and x<z)\n",
    "print(y<x and y<z)\n",
    "print(z<x and z<y)"
   ]
  },
  {
   "attachments": {
    "image.png": {
     "image/png": "[encoded data removed]"
    }
   },
   "cell_type": "markdown",
   "metadata": {},
   "source": [
    "![image.png](attachment:image.png)"
   ]
  },
  {
   "cell_type": "markdown",
   "metadata": {},
   "source": [
    "## Syntax\n",
    "\n",
    "if(condition):\n",
    "    statement1\n",
    "    statement2\n",
    "    .\n",
    "    .\n",
    "elif(condition):\n",
    "    statement1\n",
    "    statement2\n",
    "    . \n",
    "    .\n",
    "else:\n",
    "    statement1\n",
    "    statement2\n",
    "    .\n",
    "    .\n",
    "outside is statement"
   ]
  },
  {
   "cell_type": "markdown",
   "metadata": {},
   "source": [
    "### code for finding the given number is divisible by 5 or not"
   ]
  },
  {
   "cell_type": "code",
   "execution_count": null,
   "metadata": {},
   "outputs": [],
   "source": [
    "x = int(input(\"Enter a number\"))\n",
    "if(x%5==0):\n",
    "    print(\"Number is divisible by 5\")\n",
    "else:\n",
    "    print(\"Number is not divisible by 5\")\n",
    "\n",
    "print(\"Program completed\")"
   ]
  },
  {
   "cell_type": "code",
   "execution_count": null,
   "metadata": {},
   "outputs": [],
   "source": [
    "x = int(input(\"Enter a number\"))\n",
    "if(x%5==0):\n",
    " print(\"Number is divisible by 5\")\n",
    "else:\n",
    "     print(\"Number is not divisible by 5\")\n",
    "\n",
    "print(\"Program completed\")"
   ]
  },
  {
   "cell_type": "code",
   "execution_count": null,
   "metadata": {},
   "outputs": [],
   "source": []
  },
  {
   "cell_type": "code",
   "execution_count": null,
   "metadata": {},
   "outputs": [],
   "source": []
  },
  {
   "cell_type": "markdown",
   "metadata": {},
   "source": [
    "### code for finding the given number is divisible by 5 as well as 3 or not then also check if number is divisible by only one of them if yes then which number?"
   ]
  },
  {
   "cell_type": "code",
   "execution_count": null,
   "metadata": {},
   "outputs": [],
   "source": [
    "x = int(input(\"Enter a number\"))\n",
    "if(x%5==0 and x%3==0):\n",
    "    print(\"Number is divisible by 5 as well as 3\")\n",
    "elif(x%5==0):\n",
    "    print(\"Number is divisible by 5 only\")\n",
    "else:\n",
    "    print(\"number is divisible by 3 only\")\n",
    "\n",
    "print(\"Program completed\")"
   ]
  },
  {
   "cell_type": "code",
   "execution_count": null,
   "metadata": {},
   "outputs": [],
   "source": []
  },
  {
   "cell_type": "code",
   "execution_count": null,
   "metadata": {},
   "outputs": [],
   "source": [
    "x = int(input(\"Enter a number\"))\n",
    "if(x%5==0 and x%3==0):\n",
    "    print(\"Number is divisible by 5 as well as 3\")\n",
    "elif(x%5==0):\n",
    "    print(\"Number is divisible by 5 only\")\n",
    "elif(x%3==0):\n",
    "    print(\"number is divisible by 3 only\")\n",
    "else:\n",
    "    print(\"Number is neither divisible by 5 nor 3\")\n",
    "\n",
    "print(\"Program completed\")"
   ]
  },
  {
   "cell_type": "markdown",
   "metadata": {},
   "source": [
    "### Write a program to take an integer from the user and check whether the number is positive or negative or zero. if positive then print square root of that number, if negative print square of that number and if zero then print \"Thanks Aryabhatta\"."
   ]
  },
  {
   "cell_type": "code",
   "execution_count": null,
   "metadata": {},
   "outputs": [],
   "source": []
  },
  {
   "cell_type": "code",
   "execution_count": 43,
   "metadata": {},
   "outputs": [
    {
     "data": {
      "text/plain": [
       "'0x1476'"
      ]
     },
     "execution_count": 43,
     "metadata": {},
     "output_type": "execute_result"
    }
   ],
   "source": [
    "hex(5238)"
   ]
  },
  {
   "cell_type": "code",
   "execution_count": null,
   "metadata": {},
   "outputs": [],
   "source": []
  }
 ],
 "metadata": {
  "kernelspec": {
   "display_name": "Python 3",
   "language": "python",
   "name": "python3"
  },
  "language_info": {
   "codemirror_mode": {
    "name": "ipython",
    "version": 3
   },
   "file_extension": ".py",
   "mimetype": "text/x-python",
   "name": "python",
   "nbconvert_exporter": "python",
   "pygments_lexer": "ipython3",
   "version": "3.5.4"
  }
 },
 "nbformat": 4,
 "nbformat_minor": 2
}
