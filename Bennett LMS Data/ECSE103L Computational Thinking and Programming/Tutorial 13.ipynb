{
 "cells": [
  {
   "cell_type": "markdown",
   "metadata": {},
   "source": [
    "## Tutorial 13\n"
   ]
  },
  {
   "cell_type": "code",
   "execution_count": 1,
   "metadata": {},
   "outputs": [
    {
     "name": "stdout",
     "output_type": "stream",
     "text": [
      "15.464101615137753\n",
      "4,4,6\n"
     ]
    }
   ],
   "source": [
    "class Triangle:\n",
    "  def __init__(self,s1,s2,s3):\n",
    "    self.s1=s1\n",
    "    self.s2=s2\n",
    "    self.s3=s3\n",
    "  def isRT(self):\n",
    "    if(self.s1**2 == self.s2**2 + self.s3**2):\n",
    "      return True\n",
    "    elif(self.s2**2 == self.s1**2 + self.s3**2):\n",
    "      return True\n",
    "    elif(self.s3**2 == self.s2**2 + self.s1**2):\n",
    "      return True\n",
    "    else:\n",
    "      return False\n",
    "  def isET(self):\n",
    "    if (self.s1 == self.s2 and self.s1==self.s3):\n",
    "      return True\n",
    "    else:\n",
    "      return False\n",
    "  def isBT(self):\n",
    "    if(self.s1==self.s2 or self.s2 == self.s3 or self.s1 == self.s3):\n",
    "      return True\n",
    "    else:\n",
    "      return False\n",
    "  def Area(self):\n",
    "    s= (self.s1+self.s2+self.s3)/2\n",
    "\n",
    "    #area= math.sqrt(s*(s-self.s1)*(s-self.s2)*(s-self.s3))\n",
    "    area= (s*(s-self.s1)*(s-self.s2)*(s-self.s3))**(0.5)\n",
    "    return area\n",
    "  def __add__(self,other):\n",
    "    #return self.Area()+other.Area()\n",
    "    #return \"hello\"\n",
    "    return (self.Area()+other.Area())*2\n",
    "  \n",
    "  def __sub__(self,other):\n",
    "    return self.Area()-other.Area()\n",
    "  def __mul__(self,other):\n",
    "    return self.Area()**other.Area()\n",
    "  def __str__(self):\n",
    "    return str(self.s1)+\",\"+str(self.s2)+\",\"+str(self.s3)\n",
    "   # return str(self.s1+self.s2+self.s3)\n",
    "  \n",
    "t1=Triangle(3,4,5)\n",
    "t2=Triangle(2,2,2)\n",
    "t3=Triangle(4,4,6)\n",
    "\n",
    "#print(t1.isRT())\n",
    "#print(t2.isRT())\n",
    "#print(t2.isET())\n",
    "#print(t1.Area())\n",
    "#print(t2.Area())\n",
    "print(t1 + t2)\n",
    "#print(t1-t2)\n",
    "print(t3)\n",
    "#print(t1,p1)"
   ]
  },
  {
   "cell_type": "code",
   "execution_count": null,
   "metadata": {
    "collapsed": true
   },
   "outputs": [],
   "source": []
  }
 ],
 "metadata": {
  "kernelspec": {
   "display_name": "Python 3",
   "language": "python",
   "name": "python3"
  },
  "language_info": {
   "codemirror_mode": {
    "name": "ipython",
    "version": 3
   },
   "file_extension": ".py",
   "mimetype": "text/x-python",
   "name": "python",
   "nbconvert_exporter": "python",
   "pygments_lexer": "ipython3",
   "version": "3.6.1"
  }
 },
 "nbformat": 4,
 "nbformat_minor": 2
}
