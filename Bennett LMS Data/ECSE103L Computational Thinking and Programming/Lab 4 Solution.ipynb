{
 "cells": [
  {
   "cell_type": "markdown",
   "metadata": {},
   "source": [
    "# Student Name: \n",
    "# Enrollment Number: \n",
    "# Lab assignemnt number: 3"
   ]
  },
  {
   "cell_type": "markdown",
   "metadata": {},
   "source": [
    "##                                       Control Structure, Decision Statements (If, else)"
   ]
  },
  {
   "cell_type": "markdown",
   "metadata": {},
   "source": [
    "##### Syntax of if statement"
   ]
  },
  {
   "cell_type": "raw",
   "metadata": {},
   "source": [
    "                            if(cond):\n",
    "                                stmt\n",
    "                            else:\n",
    "                                stmt"
   ]
  },
  {
   "cell_type": "markdown",
   "metadata": {},
   "source": [
    "##### Syntax of if-elif statement"
   ]
  },
  {
   "cell_type": "raw",
   "metadata": {},
   "source": [
    "\n",
    "                            if(cond):\n",
    "                                stmt\n",
    "                            elif(cond):\n",
    "                                stmt\n",
    "                            .\n",
    "                            .\n",
    "                            .\n",
    "                            else: \n",
    "                                stmt"
   ]
  },
  {
   "cell_type": "markdown",
   "metadata": {},
   "source": [
    "##### Syntax of Nested if-else statement"
   ]
  },
  {
   "cell_type": "raw",
   "metadata": {},
   "source": [
    "                            if(cond):\n",
    "                                stmt\n",
    "                                if(cond):\n",
    "                                    stmt1\n",
    "                            else:\n",
    "                                if(cond):\n",
    "                                    stmt3\n",
    "                                else:\n",
    "                                    stmt4"
   ]
  },
  {
   "cell_type": "markdown",
   "metadata": {},
   "source": [
    "### 1. Write a python program to sum two user input integers. However, if the sum is between x to y it will return True. X and Y is from user."
   ]
  },
  {
   "cell_type": "code",
   "execution_count": 2,
   "metadata": {},
   "outputs": [
    {
     "name": "stdout",
     "output_type": "stream",
     "text": [
      "Eneter first number2\n",
      "enter second number3\n",
      "5\n"
     ]
    }
   ],
   "source": [
    "# Write your Code Here\n",
    "x=10\n",
    "y=20\n",
    "a=int(input(\"Eneter first number\"))\n",
    "b=int(input(\"enter second number\"))\n",
    "sum=a+b\n",
    "if(sum>10):\n",
    "    if(sum<20):\n",
    "        print(\"True\")\n",
    "        \n",
    "else:\n",
    "    print(sum)"
   ]
  },
  {
   "cell_type": "markdown",
   "metadata": {},
   "source": [
    "### 2. \tWrite a  Program to display smallest number from three input numbers. (Hint: Nested if)"
   ]
  },
  {
   "cell_type": "code",
   "execution_count": 8,
   "metadata": {},
   "outputs": [
    {
     "name": "stdout",
     "output_type": "stream",
     "text": [
      "enter first number2\n",
      "enter second number3\n",
      "enter third number7\n",
      "2\n"
     ]
    }
   ],
   "source": [
    "# Write your code here\n",
    "x=int(input(\"enter first number\"))\n",
    "y=int(input(\"enter second number\"))\n",
    "z=int(input(\"enter third number\"))\n",
    "\n",
    "if(x<y and x<z):\n",
    "    print(x)\n",
    "elif(y<z):\n",
    "    print(y)\n",
    "else:\n",
    "    print(z)\n",
    "    "
   ]
  },
  {
   "cell_type": "markdown",
   "metadata": {},
   "source": [
    "### 3. \tWrite a proram that accept a lowercase/ uppercase character from the user and check whether the character is a vowel or consonant."
   ]
  },
  {
   "cell_type": "code",
   "execution_count": 11,
   "metadata": {},
   "outputs": [
    {
     "name": "stdout",
     "output_type": "stream",
     "text": [
      "enter the chracter you want to checkI\n",
      "charachter is Vowel\n"
     ]
    }
   ],
   "source": [
    "# Write your code here\n",
    "x=input(\"enter the chracter you want to check\")\n",
    "if(x=='a' or x=='e' or x=='i' or x=='o' or x=='u' or x=='A' or x=='E' or x=='I' or x=='O' or x=='U'):\n",
    "    print(\"charachter is Vowel\")\n",
    "else:\n",
    "    print(\"character is constant\")"
   ]
  },
  {
   "cell_type": "markdown",
   "metadata": {},
   "source": [
    "### 4. Write a Python program to input a number between 1 and 7 and print the day of the week: 1-Sun, 2-Mon, 3-Tue, 4-Wed, 5-Thur, 6-Fri, 7-Sat. It should print 'invalid' if the number does not lie in correct range. "
   ]
  },
  {
   "cell_type": "code",
   "execution_count": 12,
   "metadata": {},
   "outputs": [
    {
     "name": "stdout",
     "output_type": "stream",
     "text": [
      "Enter the day in number5\n",
      "5 -Thu\n"
     ]
    }
   ],
   "source": [
    "# Write your code here\n",
    "x=int(input(\"Enter the day in number\"))\n",
    "if(x==1):\n",
    "    print(x,\"-Sun\")\n",
    "elif(x==2):\n",
    "    print(x,\"-Mon\")\n",
    "elif(x==3):\n",
    "    print(x,\"-Tue\")\n",
    "elif(x==4):\n",
    "    print(x,\"-Wed\")\n",
    "elif(x==5):\n",
    "    print(x,\"-Thu\")\n",
    "elif(x==6):\n",
    "    print(x,\"-Fri\")\n",
    "else:\n",
    "    print(x,\"-Sat\")"
   ]
  },
  {
   "cell_type": "markdown",
   "metadata": {},
   "source": [
    "### 5. Write a Python program to accept three numbers x,y,z from user. The program should check whether x lies  between the range specified by other two numbers, i.e. y and z (y<=x<=z)"
   ]
  },
  {
   "cell_type": "code",
   "execution_count": 13,
   "metadata": {},
   "outputs": [
    {
     "name": "stdout",
     "output_type": "stream",
     "text": [
      "enter first number10\n",
      "Enter the lower limit5\n",
      "Enter the upper limit30\n",
      "True\n"
     ]
    }
   ],
   "source": [
    "# Write your code here\n",
    "x=int(input(\"enter first number\"))\n",
    "y=int(input(\"Enter the lower limit\"))\n",
    "z=int(input(\"Enter the upper limit\"))\n",
    "if(x>y and x<z):\n",
    "    print(True)\n",
    "else:\n",
    "    print(False)"
   ]
  },
  {
   "cell_type": "markdown",
   "metadata": {},
   "source": [
    "### 6. Write a program that accept three sides of triangle as input, and print whether the triangle is valid or not.  "
   ]
  },
  {
   "cell_type": "raw",
   "metadata": {},
   "source": [
    "Hint: A triangle is valid if sum of its two sides is greater than the third side. If three sides are a, b and c, then three conditions should be met.\n",
    "                                        a + b > c \n",
    "                                        a + c > b \n",
    "                                        b + c > a"
   ]
  },
  {
   "cell_type": "code",
   "execution_count": 14,
   "metadata": {},
   "outputs": [
    {
     "name": "stdout",
     "output_type": "stream",
     "text": [
      "first side of triangle20\n",
      "second side of triangle30\n",
      "third side of triangle12\n",
      "Valid Triangle\n"
     ]
    }
   ],
   "source": [
    "# Write your code here\n",
    "a=int(input(\"first side of triangle\"))\n",
    "b=int(input(\"second side of triangle\"))\n",
    "c=int(input(\"third side of triangle\"))\n",
    "if(a+b>c):\n",
    "    print(\"Valid Triangle\")\n",
    "elif(b+c>a):\n",
    "    print(\"valid Triangle\")\n",
    "elif(c+a>b):\n",
    "    print(\"Valid Triangle\")\n",
    "else:\n",
    "    print(\"Invalid Triangle\")"
   ]
  },
  {
   "cell_type": "markdown",
   "metadata": {},
   "source": [
    "### 7. Write a Python program to check a triangle is equilateral, isosceles or scalene. \n",
    "Hint: Input is the angles of triangles."
   ]
  },
  {
   "attachments": {
    "image.png": {
     "image/png": "[encoded data removed]"
    }
   },
   "cell_type": "markdown",
   "metadata": {
    "collapsed": true
   },
   "source": [
    "![image.png](attachment:image.png)"
   ]
  },
  {
   "cell_type": "code",
   "execution_count": 17,
   "metadata": {},
   "outputs": [
    {
     "name": "stdout",
     "output_type": "stream",
     "text": [
      "Enter the first angle of triangle45\n",
      "Enter the secodn angle of triangle60\n",
      "Enter thr third angle of triangle 70\n",
      "angles will not make a traingle\n"
     ]
    }
   ],
   "source": [
    "#write your code here\n",
    "a=int(input(\"Enter the first angle of triangle\"))\n",
    "b=int(input(\"Enter the secodn angle of triangle\"))\n",
    "c=int(input(\"Enter thr third angle of triangle \"))\n",
    "if (a+b+c==180):\n",
    "\n",
    "    if(a==b==c):\n",
    "        print(\"Equilateral Triangle\")\n",
    "    elif(a==b or b==c):\n",
    "        print(\"Isosceles Triangle\")\n",
    "    else:\n",
    "        print(\"Scalene Triangle\")\n",
    "else:\n",
    "    print(\"angles will not make a traingle\")"
   ]
  },
  {
   "cell_type": "markdown",
   "metadata": {},
   "source": [
    "\n",
    "### 8. A bank requires customers to have a minimum salary of Rs.30,000 and at least 2 years of experience on the job to qualify for a loan. Write a Python program to check whether a customer qualifies for loan or not, based on these two parameters."
   ]
  },
  {
   "cell_type": "code",
   "execution_count": 19,
   "metadata": {},
   "outputs": [
    {
     "name": "stdout",
     "output_type": "stream",
     "text": [
      "Enter the monthly salary of employee35000\n",
      "Enter the number of years from the employee is working in this company4\n",
      "Employee is eligible for loan\n"
     ]
    }
   ],
   "source": [
    "# Write your code here\n",
    "x=int(input(\"Enter the monthly salary of employee\"))\n",
    "y=int(input(\"Enter the number of years from the employee is working in this company\"))\n",
    "\n",
    "if(x>30000 and y>2):\n",
    "    print(\"Employee is eligible for loan\")\n",
    "else:\n",
    "    print(\"Not eligible for loan\")"
   ]
  },
  {
   "cell_type": "markdown",
   "metadata": {},
   "source": [
    "### 9. Write a program to input a number x from the keyboard. If the number is larger than 0, find its square root. Otherwise, calculate the square of x."
   ]
  },
  {
   "cell_type": "code",
   "execution_count": 18,
   "metadata": {},
   "outputs": [
    {
     "name": "stdout",
     "output_type": "stream",
     "text": [
      "Enter the number23\n",
      "4.795831523312719\n"
     ]
    }
   ],
   "source": [
    "# Write your code here\n",
    "import math\n",
    "x=int(input(\"Enter the number\"))\n",
    "if(x<0):\n",
    "    print(x**2)\n",
    "else:\n",
    "    print(math.sqrt(x))"
   ]
  },
  {
   "cell_type": "markdown",
   "metadata": {},
   "source": [
    "### 10. Write a program to check whether given character is a digit or a character in lowercase or uppercase alphabet. Hint: ASCII value of digit is between 48 to 58 and Lowercase characters in the range of 97 to122, uppercase is between 65 and 90)."
   ]
  },
  {
   "cell_type": "code",
   "execution_count": null,
   "metadata": {
    "collapsed": true
   },
   "outputs": [],
   "source": [
    "# Write your code here\n",
    "x=input(\"Enter the character or digit\")\n",
    "if (ord(x)>48 and ord(x)<58):\n",
    "    Print(\"character is digit\")\n",
    "elif(ord(x)>97) and ord(x)<122):\n",
    "    print(\"Digit is lowercase letter\")\n",
    "elif()"
   ]
  },
  {
   "cell_type": "markdown",
   "metadata": {},
   "source": [
    "# Optional Programs"
   ]
  },
  {
   "cell_type": "markdown",
   "metadata": {},
   "source": [
    "### 11. Write a Python program to find the solution the quadratic equation below:\n",
    "              ax 2+ bx + c = 0\n",
    "The program should print the roots if these are real or equal. It should print 'roots are imaginary' otherwise. \n",
    "Input a, b & C from user."
   ]
  },
  {
   "cell_type": "code",
   "execution_count": 30,
   "metadata": {},
   "outputs": [
    {
     "name": "stdout",
     "output_type": "stream",
     "text": [
      "Enter the value of a2\n",
      "enter the value of b12\n",
      "enter the value of c6\n",
      "roots are real and not equal\n",
      "-2.2020410288672885\n",
      "-21.79795897113271\n"
     ]
    }
   ],
   "source": [
    "# Write your code here\n",
    "import math\n",
    "a=int(input(\"Enter the value of a\"))\n",
    "b=int(input(\"enter the value of b\"))\n",
    "c=int(input(\"enter the value of c\"))\n",
    "x=(-b+math.sqrt(b*b-4*a*c))/2*a\n",
    "y=(-b-math.sqrt(b*b-4*a*c))/2*a\n",
    "#print(x)\n",
    "#print(y)\n",
    "\n",
    "if(isinstance(x, complex)):\n",
    "    print(\"X is complex\")\n",
    "    print(x)\n",
    "    if(isinstance(y, complex)):\n",
    "        print(\"y is complex\")\n",
    "        print(y)\n",
    "elif(isinstance(y, complex)):\n",
    "        print(\"y is complex\")\n",
    "        print(y)\n",
    "        print(\"second root x is\")\n",
    "        print(x)\n",
    "elif(x==y):\n",
    "    print(\"roots are real and equal\")\n",
    "    print(x)\n",
    "else:\n",
    "    print(\"roots are real and not equal\")\n",
    "    print(x)\n",
    "    print(y)"
   ]
  },
  {
   "cell_type": "markdown",
   "metadata": {},
   "source": [
    "### 12. Write a program, which accepts annual basic salary of an employee and calculates and displays the Income tax as per the following rules. \n",
    "####                 If Basic is less than Rs. 1,50,000/-, then Tax = 0\n",
    "####                 If Basic is from Rs. 1,50,000/- to Rs. 3,00,000/-, then tax is 20%\n",
    "####                 If Basic is greater than Rs. 3,00,000/-, then tax is 30%\n"
   ]
  },
  {
   "cell_type": "code",
   "execution_count": 31,
   "metadata": {},
   "outputs": [
    {
     "name": "stdout",
     "output_type": "stream",
     "text": [
      "Enter the basic salary of employee200000\n",
      "totsl tax applied is  40000.0\n"
     ]
    }
   ],
   "source": [
    "# Write your code here\n",
    "x=int(input(\"Enter the basic salary of employee\"))\n",
    "if(x<150000):\n",
    "    print(\"No tax under this Basc Pay\")\n",
    "elif(x>150000 and x<300000):\n",
    "    tax=.2*x\n",
    "    print(\"totsl tax applied is \",tax)\n",
    "else:\n",
    "    tax=.3*x\n",
    "    print(\"total tax appled is \",tax)"
   ]
  },
  {
   "cell_type": "markdown",
   "metadata": {},
   "source": [
    "### 13. Write a program for electrical billing system based on the given requirements. Input the amount of K/watt have been used."
   ]
  },
  {
   "attachments": {
    "image.png": {
     "image/png": "[encoded data removed]"
    }
   },
   "cell_type": "markdown",
   "metadata": {},
   "source": [
    "![image.png](attachment:image.png)"
   ]
  },
  {
   "cell_type": "code",
   "execution_count": 33,
   "metadata": {},
   "outputs": [
    {
     "name": "stdout",
     "output_type": "stream",
     "text": [
      "enter the ammount of electricity consumed in K/watt1000\n",
      "total bill of electricity is 790.0\n"
     ]
    }
   ],
   "source": [
    "# write your code here\n",
    "x=int(input(\"enter the ammount of electricity consumed in K/watt\"))\n",
    "if(x<200):\n",
    "    bill=x*.5\n",
    "elif(x>200 and x<400):\n",
    "    bill=200*.5+(x-200)*.65\n",
    "elif(x>400 and x<600):\n",
    "    bill=200*.5+200*.65+(x-400)*.8\n",
    "else:\n",
    "    bill=200*.5+200*.65+200*.8+(x-600)*1\n",
    "print(\"total bill of electricity is\", bill)\n",
    "    "
   ]
  }
 ],
 "metadata": {
  "kernelspec": {
   "display_name": "Python 3",
   "language": "python",
   "name": "python3"
  },
  "language_info": {
   "codemirror_mode": {
    "name": "ipython",
    "version": 3
   },
   "file_extension": ".py",
   "mimetype": "text/x-python",
   "name": "python",
   "nbconvert_exporter": "python",
   "pygments_lexer": "ipython3",
   "version": "3.6.1"
  }
 },
 "nbformat": 4,
 "nbformat_minor": 2
}
